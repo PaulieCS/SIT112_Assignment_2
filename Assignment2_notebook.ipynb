{
 "cells": [
  {
   "cell_type": "markdown",
   "metadata": {},
   "source": [
    "# <span style=\"color:#0b486b\">SIT 112 - Data Science Concepts - Assignment 2</span>\n",
    "\n",
    "---\n",
    "Lecturer: Sergiy Shelyag | sergiy.shelyag@deakin.edu.au<br />\n",
    "\n",
    "School of Information Technology, <br />\n",
    "Deakin University, VIC, Australia.\n",
    "\n",
    "### <span style=\"color:#0b486b\">Due: 8pm, 20th May 2022 </span>\n",
    "---"
   ]
  },
  {
   "cell_type": "markdown",
   "metadata": {},
   "source": [
    "## <span style=\"color:#0b486b\">Instructions</span>\n",
    "\n",
    "This notebook has been prepared for you to complete Assignment 2. Some sections have been partially completed  to help you get started. **The total marks for this notebook is 100**.\n",
    "\n",
    "* Before you start, read the entire notebook carefully to understand what you need to do. You should also refer to the main instructions in *Assignment2_instructions.pdf*  to know what else you need to complete for this assignment as well submission instruction. <br><br>\n",
    "\n",
    "* Instructions marked with **(D)** and **(HD)** are for students aiming at high grades. They are more involved and can be completed after all other instructions.\n",
    "\n",
    "\n",
    "* For each cell marked with **#YOU ARE REQUIRED TO INSERT YOUR CODE IN THIS CELL**, there will be places where you **must** supply your own codes when instructed. <br><br>\n",
    "\n",
    "* For each cell marked with **#YOU ARE REQUIRED TO INSERT YOUR COMMENT IN THIS CELL**, there will be place where you **must** provide your own comment when instructed. <br><br>\n",
    "\n",
    "\n",
    "### Submission\n",
    "\n",
    "You are required to submit **five** files: <br><br>\n",
    "\n",
    "* The source of your solution notebook: **[groupID]_assignment2_solution.ipynb** (you may need to rename it to .txt for the university system to accept it)\n",
    "* An exported version of your output: **[groupID]_assignment2_output.html**  \n",
    "* Three json data files storing tweets collected for the three keywords, named **[groupID]_[w1].json**, **[groupID]_[w2].json**, **[groupID]_[w3].json** where **[w1], [w2], [w3]** are the three keywords you have been provided.\n",
    "    \n",
    "\n",
    "\n",
    "As you go through this notebook:\n",
    "\n",
    "* markdown cells marked with **Note** mean description sections.\n",
    "* markdown cells marked with **Instruction** mean the instructions given to you to complete the designated section."
   ]
  },
  {
   "cell_type": "markdown",
   "metadata": {},
   "source": [
    "## <span style=\"color:#0b486b\">Part 1: Crawling and Storing Tweet Data</span>\n",
    "\n",
    "\n",
    "The first part of the assignment examines your skills and knowledge to query tweets and store them in json files. For **each** provided keyword, your tasks are:\n",
    "\n",
    "* Crawl all tweets which contain this keyword written in English and geocoded within the location, provided for your group.\n",
    "* Store the tweets collected into json files.\n",
    "\n",
    "***Follow the instructions below to complete your task***."
   ]
  },
  {
   "cell_type": "markdown",
   "metadata": {},
   "source": [
    "**Note**: The following packages will be required for this assignment. If you need to import more packages, you might append them to the end of the following cell."
   ]
  },
  {
   "cell_type": "code",
   "execution_count": 1,
   "metadata": {},
   "outputs": [],
   "source": [
    "#Import packages needed for processing\n",
    "import re\n",
    "import json\n",
    "import xml\n",
    "import numpy as np\n",
    "from collections import Counter\n",
    "from TwitterAPI import TwitterAPI # in case you need to install this package, see practical 6\n",
    "from sklearn.cluster import KMeans\n",
    "\n",
    "import requests\n",
    "\n",
    "# disabling urllib3 warnings\n",
    "requests.packages.urllib3.disable_warnings()\n",
    "\n",
    "import matplotlib.pyplot as plt\n",
    "%matplotlib inline\n",
    "\n",
    "#If you need add any additional packages, then add them below\n",
    "\n"
   ]
  },
  {
   "cell_type": "markdown",
   "metadata": {},
   "source": [
    "**Instruction 1.1**. Enter your provided keywords to the variable **keywords** below.\n",
    "\n",
    "[**Total mark: 1**]"
   ]
  },
  {
   "cell_type": "code",
   "execution_count": 2,
   "metadata": {},
   "outputs": [],
   "source": [
    "# YOU ARE REQUIRED TO INSERT YOUR CODE IN THIS CELL\n",
    "\n",
    "#Enter the list of three keywords you selected to the variables keywords below\n",
    "#e.g. keywords = [\"abc\", \"def\", \"ghi\"]\n",
    "\n",
    "keywords = [\"bulb\", \"seed\", \"debt\"]"
   ]
  },
  {
   "cell_type": "markdown",
   "metadata": {
    "collapsed": true
   },
   "source": [
    "**Instruction 1.2**. Before you can perform a query to Twitter API, you need to supply authentication information. Practical sessions 6 and 7 show you how to obtain this information. **Your task is to supply the authentication information in the cell below**.\n",
    "\n",
    "**Note**: You might decide to regenerate this authentication from the pracs if you would like too. <span style=\"color:red\">After the assignment has been marked, you are strongly recommended to regenerate this authentication information from your account to maintain your privacy.</span> \n",
    "\n",
    "\n",
    "[**Total mark: 3**]"
   ]
  },
  {
   "cell_type": "code",
   "execution_count": 3,
   "metadata": {},
   "outputs": [
    {
     "name": "stdout",
     "output_type": "stream",
     "text": [
      "<TwitterAPI.TwitterAPI.TwitterAPI object at 0x000001D943D68BE0>\n"
     ]
    }
   ],
   "source": [
    "# YOU ARE REQUIRED TO INSERT YOUR CODE IN THIS CELL\n",
    "\n",
    "# Twitter API credentials \n",
    "CONSUMER_KEY = \"L6PkYIdhKdgJh4ScxeBKOWvaV\"\n",
    "CONSUMER_SECRET =  \"24bsi9ZZqVZC4GBaOkT5FKhL16Gioo64ogQdEG68LKWDHf1vEX\"\n",
    "OAUTH_TOKEN =  \"1519191616803999744-O9sKn7CFArTzQrQCFzrFVk2PJNNxc2\"\n",
    "OAUTH_TOKEN_SECRET =  \"OHQ02Khwz7eBysYo2Up72ry73Uu6yukx4qcK388rcqCms\"\n",
    "\n",
    "# Authenticating with your application credentials\n",
    "api = TwitterAPI(CONSUMER_KEY, CONSUMER_SECRET, OAUTH_TOKEN, OAUTH_TOKEN_SECRET, api_version='2')\n",
    "\n",
    "print(api)\n"
   ]
  },
  {
   "cell_type": "markdown",
   "metadata": {},
   "source": [
    "**Note**: As you have learned from the pracical sessions, to perform a query from Twitter API for a particular geo-coded location you need a center point and a radius. The center point is specified by its (latitude,longitute) pair. **The information below has been provided to you to perform the query in the subsequent tasks**."
   ]
  },
  {
   "cell_type": "code",
   "execution_count": 4,
   "metadata": {},
   "outputs": [],
   "source": [
    "# YOU ARE REQUIRED TO INSERT YOUR CODE IN THIS CELL\n",
    "# geo coordinations of the desired place\n",
    "PLACE_LAT = -27.4698\n",
    "PLACE_LON = 153.0251\n",
    "DELTA_LAT = 1.0\n",
    "DELTA_LON = 1.0"
   ]
  },
  {
   "cell_type": "markdown",
   "metadata": {},
   "source": [
    "**Instruction 1.3**. For each keyword, you are required to crawl at least **200** tweets (the more the better) using the Twitter API. However, as you have learned from the practical sessions, each query will return a maximum of only **100** tweets. Therefore, subsequent query **must** use the maximum Tweet ID from the previous batch to crawl the next lot.\n",
    "\n",
    "The following function, called ***retrieve_tweets()***, has been **partially** implemented to automatically download tweets until it reaches the maximum number of tweets needed. \n",
    "\n",
    "For example, a function call\n",
    "```\n",
    "retrieve_tweets(api, 'car', 50, 200, latitude, longitude, delta_lat, delta_lon)\n",
    "```\n",
    "will attempt to crawl a total of at least 200 tweets that contains the word 'car' for a location with given latitude, longidude and radius around it. Within each single query, it will attempt to obtain 50 tweets.\n",
    "\n",
    "**Your task is to walk through this function and enter your own codes where instructed to complete the function**.\n",
    "\n",
    "[**Total mark: 5**]"
   ]
  },
  {
   "cell_type": "code",
   "execution_count": 5,
   "metadata": {},
   "outputs": [],
   "source": [
    "# YOU ARE REQUIRED TO INSERT YOUR CODE IN THIS CELL\n",
    "'''\n",
    "You will be required to insert your own codes to complete this function. \n",
    "Walk through this function and enter your own codes where instructed.\n",
    "'''\n",
    "def retrieve_tweets(api, keyword, batch_count, total_count, latitude, longitude, delta_lat, delta_lon):\n",
    "    \"\"\"\n",
    "    collects tweets using the Twitter search API\n",
    "    \n",
    "    api:         Twitter API instance\n",
    "    keyword:     search keyword\n",
    "    batch_count: maximum number of tweets to collect per each request\n",
    "    total_count: maximum number of tweets in total\n",
    "    latitude:    latitude of the location centre from where tweets are retrieved\n",
    "    longitude:   longitude of the location centre from where tweets are retrieved\n",
    "    delta_lat:   latitude delta (from the location centre) in degrees\n",
    "    delta_lon:   longitude delta (from the location centre) in degrees\n",
    "    \"\"\"\n",
    "\n",
    "    \n",
    "    # the collection of tweets to be returned\n",
    "    tweets_unfiltered = []\n",
    "    tweets = []\n",
    "    \n",
    "    # the number of tweets within a single query\n",
    "    batch_count = str(batch_count)\n",
    "    \n",
    "    '''\n",
    "    You are required to insert your own code where instructed to perform the first query to Twitter API.\n",
    "    Hint: revise the practical session on Twitter API on how to perform query to Twitter API.\n",
    "    '''    \n",
    "    resp = api.request('tweets/search/recent', {'query': keyword,\n",
    "                                     'max_results': batch_count,\n",
    "                                     'tweet.fields': {'lang':'en'},      \n",
    "                                     'place.fields':{\n",
    "                                     'geo': {\n",
    "                                     \"type\": \"Feature\",\n",
    "                                     \"bbox\": [\n",
    "                                     longitude - delta_lon,\n",
    "                                     latitude - delta_lat,\n",
    "                                     longitude + delta_lon,\n",
    "                                     latitude + delta_lat\n",
    "                                      ],\n",
    "                                      \"properties\": {}\n",
    "                                      }}})\n",
    "    \n",
    "\n",
    "    # check first if there was an error\n",
    "    if ('errors' in resp.json()):\n",
    "        errors = resp.json()['title']\n",
    "        if (errors == 'Invalid Request'):\n",
    "            print('Too many attempts to load tweets or too many tweets to load.')\n",
    "            print('You need to wait for a few minutes before accessing Twitter API again or reduce max_results.')\n",
    "    \n",
    "    #if ('statuses' in resp.json()):\n",
    "    tweets_unfiltered += resp\n",
    "    \n",
    "    ids = [int(tweet['id']) for tweet in tweets_unfiltered]\n",
    "    max_id_str = str(min(ids))\n",
    "    \n",
    "    tweets = [tweet for tweet in tweets_unfiltered if (('RT @' not in tweet['text']) & (tweet['lang'] == 'en'))]\n",
    "    \n",
    "    \n",
    "    # loop until as many tweets as total_count is collected\n",
    "    number_of_tweets = len(tweets)\n",
    "    \n",
    "    while number_of_tweets < total_count:\n",
    "\n",
    "    \n",
    "        resp = api.request('tweets/search/recent', {'query': keyword, # INSERT YOUR CODE\n",
    "                                         'max_results': batch_count, # INSERT YOUR CODE                                     \n",
    "                                         'until_id': max_id_str,\n",
    "                                         'tweet.fields': {'lang':'en'},      \n",
    "                                         'place.fields':{\n",
    "                                         'geo': {\n",
    "                                         \"type\": \"Feature\",\n",
    "                                         \"bbox\": [\n",
    "                                         longitude - delta_lon,\n",
    "                                         latitude - delta_lat,\n",
    "                                         longitude + delta_lon,\n",
    "                                         latitude + delta_lat\n",
    "                                         ],\n",
    "                                         \"properties\": {}\n",
    "                                         }}})\n",
    "\n",
    "            \n",
    "        tweets_unfiltered += resp\n",
    "        tweets = [tweet for tweet in tweets_unfiltered if (('RT @' not in tweet['text']) & (tweet['lang'] == 'en'))]\n",
    " \n",
    "        ids = [int(tweet['id']) for tweet in tweets_unfiltered]\n",
    "        max_id_str = str(min(ids))\n",
    "            \n",
    "        number_of_tweets = len(tweets)\n",
    "        \n",
    "        print(\"{} tweets are collected for keyword {}. \".format(number_of_tweets, keyword))\n",
    "   \n",
    "    return tweets"
   ]
  },
  {
   "cell_type": "markdown",
   "metadata": {},
   "source": [
    "**Instruction 1.4**. After having defined the ***retrieve_tweets()*** function above, you are now ready to use this function to collect your tweets. Your task is to write the code to perform three function calls, each of which corresponds to one keyword. And, you are required to collect at least **200** tweets for each keyword (the more the better).\n",
    "\n",
    "[**Total mark: 5**]"
   ]
  },
  {
   "cell_type": "code",
   "execution_count": 6,
   "metadata": {},
   "outputs": [
    {
     "name": "stdout",
     "output_type": "stream",
     "text": [
      "116 tweets are collected for keyword bulb. \n",
      "161 tweets are collected for keyword bulb. \n",
      "213 tweets are collected for keyword bulb. \n",
      "62 tweets are collected for keyword seed. \n",
      "87 tweets are collected for keyword seed. \n",
      "118 tweets are collected for keyword seed. \n",
      "148 tweets are collected for keyword seed. \n",
      "171 tweets are collected for keyword seed. \n",
      "197 tweets are collected for keyword seed. \n",
      "213 tweets are collected for keyword seed. \n",
      "53 tweets are collected for keyword debt. \n",
      "86 tweets are collected for keyword debt. \n",
      "107 tweets are collected for keyword debt. \n",
      "137 tweets are collected for keyword debt. \n",
      "157 tweets are collected for keyword debt. \n",
      "183 tweets are collected for keyword debt. \n",
      "214 tweets are collected for keyword debt. \n",
      "[{'id': '1519519045510443009', 'lang': 'en', 'text': '@stacia_vandi $1.14, but when I when I went to Maine, they still had analog pumps that required you pumping the bulb.  Had no clue!  The guy looked at me in disgust after helping me.'}, {'id': '1519518605511041025', 'lang': 'en', 'text': '@mldiffley @elonmusk Come on man, he hasn’t had to change a light bulb over there… I suspect you are a bot…'}, {'id': '1519518404289441792', 'lang': 'en', 'text': 'A light bulb pops over his head . . he has an idea.\\n\\nProceeds to create a sort of armor around his torso made of ice to cover up, and it looks as goofy as his expression.\\n\\n\\u3000\\u3000\\u3000\"NO NO— I\\'m decent now!\" https://t.co/hSTtqtbysi'}, {'id': '1519518073027547136', 'lang': 'en', 'text': 'New light bulb ban to save families $100 a year – see when you can no longer buy\\xa0them https://t.co/tGQBWz4F07'}, {'id': '1519518067159703554', 'lang': 'en', 'text': 'New light bulb ban to save families $100 a year – see when you can no longer buy\\xa0them https://t.co/H3XT0doDoG'}, {'id': '1519518058217414657', 'lang': 'en', 'text': 'New light bulb ban to save families $100 a year – see when you can no longer buy\\xa0them https://t.co/ybeRY6586L'}, {'id': '1519518054719365121', 'lang': 'en', 'text': 'Tall girls please stop lifting your legs \\nDuring sex💦🍆🍑\\nThis gyal bruck the bulb💡 in my room'}, {'id': '1519518051716288512', 'lang': 'en', 'text': 'New light bulb ban to save families $100 a year – see when you can no longer buy\\xa0them https://t.co/J98poQH5JE'}, {'id': '1519518044866940928', 'lang': 'en', 'text': 'New light bulb ban to save families $100 a year – see when you can no longer buy\\xa0them https://t.co/937tVKD1ud'}, {'id': '1519518039166922754', 'lang': 'en', 'text': 'New light bulb ban to save families $100 a year – see when you can no longer buy\\xa0them https://t.co/MZ4Q2FEC5J'}, {'id': '1519518033429082112', 'lang': 'en', 'text': 'New light bulb ban to save families $100 a year – see when you can no longer buy\\xa0them https://t.co/zDOtUkearC'}, {'id': '1519518027322175490', 'lang': 'en', 'text': 'New light bulb ban to save families $100 a year – see when you can no longer buy\\xa0them https://t.co/ypOu3Yxqhr'}, {'id': '1519518013212536838', 'lang': 'en', 'text': 'New light bulb ban to save families $100 a year – see when you can no longer buy\\xa0them https://t.co/sxLEptvMHZ'}, {'id': '1519517978873798656', 'lang': 'en', 'text': 'New light bulb ban to save families $100 a year – see when you can no longer buy\\xa0them https://t.co/eiB3wvPS8t'}, {'id': '1519517637377732615', 'lang': 'en', 'text': \"@TimRunsHisMouth Fun fact you're about as bright as burnt out light bulb so  crawl back into your cave\"}, {'id': '1519517437430951936', 'lang': 'en', 'text': 'bulb'}, {'id': '1519517336797159424', 'lang': 'en', 'text': 'Incandescent light bulbs to get switched off in 2023 under new Biden rules https://t.co/LI94cJ68sb via @cbsmoneywatch'}, {'id': '1519517070563713031', 'lang': 'en', 'text': 'Democrats spent 15 years ratcheting up lightbulb regs. The industry that supported them got burned https://t.co/uqpZqH49hD'}, {'id': '1519516910169333760', 'lang': 'en', 'text': 'ELTRON TURBO High Brightness CYT DC Power Front Headlight Bulb For All Models Of Activa, Jupiter, Passion, Splendor, Ktm, Pulsar, Apache H4 2 White Led And 2 Yellow Led Beam (Pack Of 1) Motorbike\\xa0Parts https://t.co/nND1yWxvkZ'}, {'id': '1519516907765788672', 'lang': 'en', 'text': 'QUESTION:\\n\\nHow many nasty people without a mask does it take to screw in a light bulb?'}, {'id': '1519516563052716034', 'lang': 'en', 'text': '“the light bulb song” took me clean out 😭💀 do not resuscitate me https://t.co/7dkxglflr5'}, {'id': '1519516117760233472', 'lang': 'en', 'text': '@SummerForPA @CoriBush @AyannaPressley Photo title: How many racist does it take to screw in a light bulb?'}, {'id': '1519516019836047360', 'lang': 'en', 'text': 'Y’all, I really need help quickly. I’ve emailed Bulb hoping to get an ext. until end month, but then rent…please help if you can.\\n\\n#SupportDisabledStreamers #SupportSmallStreamers\\n#rununtilyouflygang 💪\\n\\n#HumanityFirst #DisabilityCrowdFund #MutualAidTrain @sme_rt @BlazedRTs https://t.co/8ydVdsCfmW'}, {'id': '1519515926026141696', 'lang': 'en', 'text': \"Gratch, King, and implied knowledge: Recognizing that the lake Hey, that's the bulb and algorithms.\"}, {'id': '1519515807637770244', 'lang': 'en', 'text': '@marcorubio Joe Biden light bulb burned out years ago.'}, {'id': '1519515645951553537', 'lang': 'en', 'text': 'Sibling touch to glow LED Bulb : OMG, LED bulbs get lit up on touching these brothers and sisters, video going\\xa0viral https://t.co/uNu9iujYuy'}, {'id': '1519515554687631363', 'lang': 'en', 'text': '@JohnMan28353637 @danielpconrad @w_terrence Who cares? You want to sort that out fill your boots. I don’t even know how a fluorescent light bulb works… that won’t change the definition of a word…'}, {'id': '1519515412496404480', 'lang': 'en', 'text': '4PCS #LED Wheel Tyre Tire Valve Caps Neon #Light Bulb for Bike Car #Motorcycle\\nhttps://t.co/qTKO16Uc4f'}, {'id': '1519515384675676162', 'lang': 'en', 'text': '4PCS #LED Wheel Tyre Tire Valve Caps Neon #Light Bulb for Bike Car #Motorcycle\\nhttps://t.co/rSWPZqoWOG'}, {'id': '1519515115762032641', 'lang': 'en', 'text': '🚙XD35 D series (D1, D2, D3, D4, D5, D8) LED headlight bulb, plug &amp; play to HID ballast, high compatibility and stability, strong CANBUS.\\n🌐https://t.co/NhRr7JDhi5\\n#BULBTEK #AutoLightingSystem #LEDHeadlight #FanLEDHeadlight #CarLEDHeadlight #AutoHeadlightBulb #CANBUSLED #D2LED https://t.co/hXEsaRXvKx'}, {'id': '1519514635346583554', 'lang': 'en', 'text': '@JKCange @ColinCowherd ..and the most inarticulate. I cringe every time he opens his mouth. Grammar? Usage? Idioms? Dumb, stupid and ignorant do not begin to describe the dim mental wattage there. Is there a metaphor for such an absence of wit? Is there a 5 watt bulb?'}, {'id': '1519514078481424386', 'lang': 'en', 'text': '50mm 100Pcs Retaining Spring Ring Clasp Clips,Bulb Spring Buckle,Lamp Retaining Spring Clip,LED Spot Light Downligh... https://t.co/orrmPLKdqE'}, {'id': '1519513887732903937', 'lang': 'en', 'text': '@realDailyWire How many liberals does it take to change a light bulb...'}, {'id': '1519513863246462976', 'lang': 'en', 'text': \"@GringoLocoOG If it's a wax buildup solved with peroxide and tweezers, you might want to try Murine (or something like it) to flush the ears out every now then. Comes with a bulb you fill with water and squeeze into the ear to flush it. Works wonders. (I have terrible wax buildup sometimes)\"}, {'id': '1519513005851037699', 'lang': 'en', 'text': '@sackeshi Jeff ABSOLUTELY regretted the no vote, when the light bulb went off for tori to play the shot in the dark. \\n\\nLiterally made up rules on the spot lol. #Survivor42'}, {'id': '1519512578757513216', 'lang': 'en', 'text': '@nickmartin @stphnmaher I watched the HBO documentary. Even by Republican Congressional standards, Watkins is a dim bulb.\\n\\nhttps://t.co/m10kx80NYc'}, {'id': '1519512383743348736', 'lang': 'en', 'text': 'New Rules Will End the Century-Long Run of Classic Light Bulbs (#IncandescentLightBulbs #LEDlightbulbs) #Climate #energy https://t.co/iBm5EElJN0'}, {'id': '1519512383294779397', 'lang': 'en', 'text': '@BET @msdebbieallen She’s the Light in the bulb and the Shines in the sun. I’ve always admired her💃🏿💃🏿💃🏿💕'}, {'id': '1519512283352813570', 'lang': 'en', 'text': \"bulb the\\nbreads warm or cloves\\n\\nfor the also 10 topped\\nout olive nigella's these ingredients\\n\\nto 50ml\"}, {'id': '1519512151999889410', 'lang': 'en', 'text': 'SUNVIE Caged Ceiling Fan with Lights Remote Control 21in industrial Bladeless Ceiling Fan Black Enclosed Ceiling Fan Light with Reversible Motor for Bedroom Kitchen Living Room 5 × E26 Base(No\\xa0Bulb) https://t.co/nk5EYRXQwS'}, {'id': '1519512145830027265', 'lang': 'en', 'text': 'SUNVIE Caged Ceiling Fan with Lights Remote Control 21in industrial Bladeless Ceiling Fan Black Enclosed Ceiling Fan Light with Reversible Motor for Bedroom Kitchen Living Room 5 × E26 Base(No\\xa0Bulb) https://t.co/zrqZL0P1F9'}, {'id': '1519511820163334149', 'lang': 'en', 'text': \"@MichaelRapaport Did he ban you from saying anything?\\nHe just didn't want to listen to your moronic views.\\nYou are truly not the brightest bulb on the tree.\"}, {'id': '1519511730552020992', 'lang': 'en', 'text': 'Light bulb efficiency tested – and the winner is\\xa0clear https://t.co/tbu02QnZu1'}, {'id': '1519511729876520962', 'lang': 'en', 'text': 'Light Bulb Drawing\\nhttps://t.co/CQkOMLZSDv\\n.\\n.\\n#drawingideas #ideasfordrawing #drawingroomideas #drawingideasforkids #artdrawingideas #sketching #sketches #drawing #drawings #pencilartwork #drawdrawdraw #pencilsketch #pencilart #sketchbookart #drawingsketch #drawingaday https://t.co/lkPX8dPvby'}, {'id': '1519511724369584131', 'lang': 'en', 'text': 'The phase-out of the old-fashioned bulbs is aimed at reducing utility bills and conserving energy. https://t.co/56d4Z9p0rO'}, {'id': '1519511023904034816', 'lang': 'en', 'text': \"@Yunusatankoa @NextNigeriaPre @DejiAdesogan The only tweet in this thread that's like a light bulb\"}, {'id': '1519510983559254016', 'lang': 'en', 'text': 'Another Bulb Loading ⏳🤸 https://t.co/iKwOX0Pvte'}, {'id': '1519510848393613312', 'lang': 'en', 'text': '\"A relationship is like a house. When a light bulb burns out, you don\\'t go and buy a new house. You fix the light bulb.\"\\n\\nTHAMARASLAY ON SHOWTIMEONLINEU'}, {'id': '1519510508436656129', 'lang': 'en', 'text': \"Some people say that comedians who tell one too many light bulb jokes soon burn out, but they don't know watt they are talking about. They're not that bright.\"}, {'id': '1519510350562951168', 'lang': 'en', 'text': 'Check out this listing I just added to my #Poshmark closet: Vintage Chrome Art Deco 3 Bulb Bathroom Bath Incandescent Light Fixture. https://t.co/P6XHCuD9MF #shopmycloset @poshmarkapp'}, {'id': '1519510250788986881', 'lang': 'en', 'text': \"@MarkRuffalo Biden is hoping that loan forgiveness will help the Democrats in the mid-term...but he's wrong about that.  As for you...what can I say?  You're not very bright, actually a dim bulb.\"}, {'id': '1519509575585746944', 'lang': 'en', 'text': '@dm3111730 @LDG4Will @w_white18 Lol. I figured but I just couldn’t get it.  Finally the light bulb came on.  🤣🤣'}, {'id': '1519509559747952640', 'lang': 'en', 'text': 'It was like a light bulb went off'}, {'id': '1519509161595502592', 'lang': 'en', 'text': '@LangaMahesh Wet bulb temperature is 25°C in Gujarat!\\n\\n&gt; A sustained wet-bulb temperature exceeding 35 °C  is likely to be fatal even to fit and healthy people, unclothed in the shade next to a fan; at this temperature human bodies switch from shedding heat to the environment, to gaining heat https://t.co/nrwNcI8P5t'}, {'id': '1519509142691491840', 'lang': 'en', 'text': '@CambridgeAimee Change the light bulb'}, {'id': '1519509123913576448', 'lang': 'en', 'text': '@DennisKendel @CPC_HQ Waugh ain’t the brightest bulb in the package! He’s proven that so many times already!'}, {'id': '1519508958469402624', 'lang': 'en', 'text': '@therightswrong @jeremynewberger @elonmusk Can you get any more dull? Is that light bulb on up there?'}, {'id': '1519508941868314624', 'lang': 'en', 'text': 'Do not let fear stop your quest for knowledge. Stick the entire light bulb in your mouth. Answer the calls of the void. Learn.'}, {'id': '1519508495799922690', 'lang': 'en', 'text': '@GoGoTornado *eats a light bulb* I DID IT'}, {'id': '1519508479144255489', 'lang': 'en', 'text': \"@thetimes LOL. Those 1970s gunners are easy targets.  They don't even have radars, they have a physical map that uses a light bulb to show where the enemy is.  And it still uses the six foot tall computer that they used back then. https://t.co/o0hfq8XhSU\"}, {'id': '1519508146925932544', 'lang': 'en', 'text': 'Stricter energy efficiency standards by the Biden administration coming into effect in 2023 will effectively kill new sales of less efficient incandescent light bulbs, a 1900s technology we should’ve fully transitioned from eons ago. LED’s time to shine!\\nhttps://t.co/KDCXQSzSG3'}, {'id': '1519507581009424384', 'lang': 'en', 'text': 'Red Light Therapy Lamp Device for Body Face with Stand Height Adjustable Bulb https://t.co/rUF6eImOfQ eBay https://t.co/H2bSifMRkQ'}, {'id': '1519507570221891585', 'lang': 'en', 'text': '@FoxNews @laurenboebert Throw chick is a dim bulb.'}, {'id': '1519507096525451265', 'lang': 'en', 'text': '@NewKevinBacon @davematt88 There’s your answer, Fish-Bulb.'}, {'id': '1519506922033999873', 'lang': 'en', 'text': '@jameslsutter We just used a bulb. Worked fine. No weird mouth powered suction nonsense.'}, {'id': '1519506820544417792', 'lang': 'en', 'text': 'Check out this listing I just added to my #Poshmark closet: Vintage 3 Bulb Bathroom Vanity Wall Light Fixture Mirror Mirrored w/ Mounting Br. https://t.co/Gt9wlXCmKE #shopmycloset @poshmarkapp'}, {'id': '1519506681230635008', 'lang': 'en', 'text': '@ClimateHuman @MrMatthewTodd I found this site https://t.co/Emlc7V0GwP - looks like the wet bulb temp reached as high as 30 in some places (southern coastal areas) yesterday which is getting pretty high'}, {'id': '1519506618471358464', 'lang': 'en', 'text': 'I have vague memories of \\'feeling weird\\' over many characters as early as kindergarten (@CarlCrushes). In middle school I started to notice a more overt magnetism to guys, but went into denial about it. Around age 14/15 I finally had my undeniable light bulb moment, like \"...oh.\" https://t.co/GjnkfrggDH'}, {'id': '1519506240430231552', 'lang': 'en', 'text': 'Panoramic Security Bulb Camera with 32G Card\\n$ 48.99\\n\\n #carlovers #cardetailing #forcarmerch\\n\\nTag a friend who would love this!\\nFREE Shipping Worldwide\\n\\nBuy one here ——&gt; https://t.co/IvAQjQK8Fu https://t.co/DRHBrMwXVG'}, {'id': '1519505688657072128', 'lang': 'en', 'text': '@MorskyStan @realBobBruley @jpjameson @elonmusk You mean the departure of all those imaginary followers of dim bulb lefties?'}, {'id': '1519505647892672513', 'lang': 'en', 'text': 'When a bulb blows out in the room we do not change the room or the house, we replace the bulb'}, {'id': '1519505188142428162', 'lang': 'en', 'text': '(3) Blue light at night\\n\\nOur modern world is dominated with artificial blue light. Every light bulb and screen has massive spikes in the blue range--this also inhibits melatonin release. Get some blue blocking glasses and wear them after sunset. https://t.co/3JeOnybOxw'}, {'id': '1519505110698713088', 'lang': 'en', 'text': 'Panoramic Security Bulb Camera with 32G Card \\n\\nHow amazing is this? \\nGet this for $39.99\\nFREE SHIPPING with Super Fast 1-3 Days Delivery to the United States Customers! 🇺🇸🛍️🛒 \\n\\nGet it here ——&gt; https://t.co/DxjA8ipdu5\\n\\n #shoplocal #onlinestore #shoppingday https://t.co/JwUrC6t0e6'}, {'id': '1519504871703126018', 'lang': 'en', 'text': \"@Briankmcneal @VirginiaBuysse @FauciFan I just did dim bulb,, look again.  Stop asking stupid questions I have nothing to prove to you, though you have proven over and over you don't understand much.\"}, {'id': '1519503897873858560', 'lang': 'en', 'text': \"1. went to change one of the 8 taillight bulbs on my car cause it wasn't working. took off the housing &amp; I found the cables cut and missing the harness for the bulb\\n2. going to the junkyard tomorrow to find the housing and take some fuses https://t.co/Bj9mEnvPPG\"}, {'id': '1519503662422261760', 'lang': 'en', 'text': '@dbennett_ks @Ayishas12 That is extremely irrelevant. Wet bulb means that the relative humidity approaches 100% which means your body sweats but it does not evaporate / provide any cooling. This is deadly at only very slightly above human body temperature.'}, {'id': '1519503203909480450', 'lang': 'en', 'text': '@only_living_grl @BreeintheDesert @jensutangraens @Ayishas12 The first chapter of “Ministry for the Future” has a horrific fictional wet bulb event that’s hands down the most terrifying  thing I’ve ever read'}, {'id': '1519502990503301121', 'lang': 'en', 'text': '@only_living_grl @BreeintheDesert @jensutangraens @Ayishas12 When I learned wet bulb events  during the NW heat waves last year  I had a three day period of feeling trapped on earth, just absolute horror. And I wasn’t even there.'}, {'id': '1519502974426529792', 'lang': 'en', 'text': 'This is why Musk can buy Twitter. $1,600 estimate to replace a burned out headlight bulb #tesla #ElonMusk https://t.co/GzSsgXSFc9'}, {'id': '1519502484867325952', 'lang': 'en', 'text': \"@kylenabecker He's not the brightest bulb in the box is he😱😱😂😂😂 https://t.co/kFGjGmK5ne\"}, {'id': '1519502295276216320', 'lang': 'en', 'text': 'them bitches are  bulb'}, {'id': '1519502219921473538', 'lang': 'en', 'text': '@IsidroTrevino @laurenboebert She’s about as shiny as a dead light bulb'}, {'id': '1519501546186326016', 'lang': 'en', 'text': 'I was watching Charmed (1998) and Prue was in the auction house examining a painting and the idea bulb just 💡💡💡 https://t.co/RqJoFbGW84'}, {'id': '1519501143369412610', 'lang': 'en', 'text': \"@jethrostudio @EverettStern1 Lmao\\nI'm not the sharpest light bulb in the pencil box \\n🤣🤣🤣\"}, {'id': '1519500979783274498', 'lang': 'en', 'text': '@TanukisRevenge @c_slugg How would you know if the red light bulb was failed? 🤣'}, {'id': '1519500834878287872', 'lang': 'en', 'text': '@jeonnfm thank u bulb !! eat bfast na if u havent'}, {'id': '1519500340713902081', 'lang': 'en', 'text': \"Physical daylighting at corners to improve visibility is the way to go, whether it's sidewalk bulb-outs, bike parking, landscaping, bioswales, bollards, etc. Much better than relying on signs and enforcement, like at Washington and Requa for example. https://t.co/Az0iOMwQr7\"}, {'id': '1519500262305677313', 'lang': 'en', 'text': 'BUSAN 24 HRS\\nU KNOW RAON THE FIGHTER KOREAN FANS DO\\nHOW ABOUT RAON THE FIGHTING,BEEN WAITING FOR HIM\\nCLEVER NAME\\nNOT\\nLOCK IN R5\\nTHE LIGHT BULB HAS GONE OFF WITH THIS HORSE\\nBEST BET OF NIGHT'}, {'id': '1519500244722937856', 'lang': 'en', 'text': '*eats a light bulb*'}, {'id': '1519499849649078272', 'lang': 'en', 'text': '@JoeConchaTV Oh the liberal Socialits would like that. The big control light bulb will light up like a Christmas Tree. 🤣🤣🤣'}, {'id': '1519499775699308545', 'lang': 'en', 'text': '@PapaZirk Who told him to hit his pra over 😤 he ruined my bathroom light bulb slip 😂 everybody else hit with curry pending'}, {'id': '1519499555317993474', 'lang': 'en', 'text': 'Lionel 1447-300 Lamp 18V Clear Screw Base Bulb (50) #eBay🇺🇸 #Toys\\xa0#Hobbies https://t.co/X2Lyi8Sbpy'}, {'id': '1519499465534713857', 'lang': 'en', 'text': 'I just received a gift from Batman via Throne Gifts: Dimmable Electric Lantern Table Lamp with line Cord dimmer and Edison Style Vintage Bulb-Rustic Rust Finish. Thank you! https://t.co/zsp0chvxGH #Wishlist #Throne https://t.co/RV2ycgdG8I'}, {'id': '1519499423025442823', 'lang': 'en', 'text': '@TheRealHoarse He’s not the brightest bulb even if he thinks he’s the most clever.'}, {'id': '1519498674728017921', 'lang': 'en', 'text': 'When the light bulb went off on what #Bitcoin is and what it could do for the world, the benefits seemed so painfully obvious. \\n\\nIt still feels crazy to me that an overwhelming majority of the world is still uneducated/unaware of its potential…'}, {'id': '1519497872949092354', 'lang': 'en', 'text': 'Image description: Black background with April 27, 2022 &amp; this week\\'s topics. The right half is a blue light bulb with a plant growing inside with yellow dots and \"We-Learn, Weekly ID, LXD, and L&amp;D treats, Bela Gaytan, and https://t.co/x7fo6KJXRc\".'}, {'id': '1519497714001711106', 'lang': 'en', 'text': \"@Explosions_Fire Actually yes lol!  Just about 8mos ago I had to get a 3way bulb incandescent cause I couldn't find the right size at the time! Plus the yellow bug light ones I always get that way too, the stupid bugs don't stay away from the cfl ones. 💡💡\"}, {'id': '1519497320290729984', 'lang': 'en', 'text': 'How many dance teachers does it take to change a light bulb?\\nFive!…Six!…Seven!…Eight!\\n#purdueballroom #purduedayofgiving'}, {'id': '1519497141038723073', 'lang': 'en', 'text': \"It's the Seven O'Clock (Pacific Time) Spotlight, a fine old #MaxFunDrive tradition that I just made up and will probably forget before tomorrow. Today we're shining that 10,000 watt bulb on:\\n\\nPODCASTS YOU CAN LISTEN TO WITH YOUR FAMILY\"}, {'id': '1519496716973662209', 'lang': 'en', 'text': 'Day 1039. Sometimes, I am not the sharpest tool in the shed nor the brightest bulb in the box. How many times have we driven past this exit sign and I never realized the significance of the frakkin museum just beyond it. Guess who grew up in Wapakoneta, OH? https://t.co/763akcHUWq'}, {'id': '1519496652779888640', 'lang': 'en', 'text': 'How many dance teachers does it take to change a light bulb?\\nFive!…Six!…Seven!…Eight!\\n#purdueballroom #purduedayofgiving'}, {'id': '1519496557061681157', 'lang': 'en', 'text': '@Explosions_Fire Almost every bulb in my parents house is incandescent.'}, {'id': '1519496274592022528', 'lang': 'en', 'text': \"@shirleygammy @TheView @ambermruffin @TuckerCarlson @MSNBC A little if ur a so called millionaire or billionaire u don't worry about light bulb flushing toilet washer shower heads ink paper glue windmills etc or ppl throwing fruits 😂😂😂 https://t.co/INJ8Wbechf\"}, {'id': '1519495920869462017', 'lang': 'en', 'text': '@JustDontTryIt @BrianMorris7674 @aguyuno @BradHuston @BrianRothLives yet thats who made those claims ... dim bulb and you said i was who said it'}, {'id': '1519495917765898241', 'lang': 'en', 'text': 'Tried to change my headlight. Got the bulb out but they gave me the wrong one 🥲🙃 God, WHERE IS MY MAN??!!! I ain’t even posed to be doing this 😭😭😭😂'}, {'id': '1519495879245410305', 'lang': 'en', 'text': '@elonmusk Meanwhile at CIA headquarters: A gaunt figure lifts his head from his dusty cocaine-ridden desk under the flickering of a Fluorescent CFL bulb and stares at the television newscast: \\'Musk intends to bring back the original coca cola recipe.\\' \"So you have chosen war, Mr Tusk\".'}, {'id': '1519495581693054976', 'lang': 'en', 'text': 'Having bit of a MH struggle so I am spending 20 minutes in front of my red light bulb. Hopefully it helps'}, {'id': '1519495047103741953', 'lang': 'en', 'text': \"Sorry I couldn't finish my wedding vows. My light bulb broke.\"}, {'id': '1519495029366169601', 'lang': 'en', 'text': 'Drive Pro Decorative Bulb Screw Edison Light Bulb E27 Pack of 2 E27 Vintage Light Bulbs, Dimmable Amber Warm 2700K Antique Light Bulbs E27 Edison Light Bulbs St64 E27 Bulb, Led Filament Light Bulbs. https://t.co/GAwVr5ot92'}, {'id': '1519495020738269184', 'lang': 'en', 'text': 'Taking wet bulb into account (which is the temperature measurement that includes moisture in the air) &amp; is lower than the dry bulb temp mentioned above, India is experiencing intervals of wet bulb temps reaching 35 C/ 99 F, which is the absolute limit of human tolerance'}, {'id': '1519494700830380032', 'lang': 'en', 'text': '@tedlieu @RepMTG No one ever said that MTG is the brightest bulb in the tanning bed.'}, {'id': '1519494499495333888', 'lang': 'en', 'text': 'Remember when Jesus said, “Love thy neighbor… unless doing so would violate some dim bulb’s notion of what can be found in the yet to written constitution for a country that doesn’t exist yet?”Because that’s totally in the Bible. Especially if you can’t read. https://t.co/8InXEUmRZJ'}, {'id': '1519494014403289088', 'lang': 'en', 'text': 'Echo (4th generation) | With premium sound | Twilight Blue + Philips Hue White Smart Bulb (B22), Works with\\xa0Alexa https://t.co/aeIuQyvqVP'}, {'id': '1519493926763515906', 'lang': 'en', 'text': \"My reality needs imagination like a bulb needs a socket. My imagination needs reality like a blind man needs a cane.\\n\\nI'm listening to #MONEY the most successful b-side by #LISA\"}, {'id': '1519493871947898880', 'lang': 'en', 'text': '@akheriaty Two reasons come to mind:\\nIncandescent light bulb ban\\nRestrictions on purchasing Pseudoephedrine (including requiring photo ID to purchase)\\n[Screw GWB!]'}, {'id': '1519493867443081218', 'lang': 'en', 'text': 'the scenario depicts various primitive rituals celebrating the advent of spring (light bulb gardening 💐 whosoever catches on first) after which a young girl is chosen 👰 https://t.co/nQChEu6PZd'}, {'id': '1519492919429767168', 'lang': 'en', 'text': '@RivasSergio @dbongino Just another brainwashed propagandized lib/socialist loser dim bulb!!’'}, {'id': '1519492823342620673', 'lang': 'en', 'text': '@markc199 @youngb03 @chipgoines @elonmusk You’re obviously NOT the brightest bulb on the tree.'}, {'id': '1519492771777814528', 'lang': 'en', 'text': '@elonmusk AHAHAHAHAHHAAAAAA! And then buy the government to erase all idiotic environment laws so we can get incandescent light-bulbs back. I want to buy any kind of dang light-bulb I want.'}, {'id': '1519492767352860673', 'lang': 'en', 'text': 'Filament of tiny bulb  #Filament #Bulb #Macro #Closeup #Spring #NikonD7200 #Tokina100mm #Nikon #Tokina https://t.co/R3GMapIYs6'}, {'id': '1519492725023952897', 'lang': 'en', 'text': '@ItsGoneAwry @graceisforyou Beef stew with fennel bulb 😋'}, {'id': '1519492199272042497', 'lang': 'en', 'text': 'Incandescent light bulbs have lit the nation’s homes and businesses for more than a century. They are finally on their way out. https://t.co/ijnDwyv7pL'}, {'id': '1519492192980643841', 'lang': 'en', 'text': 'Bulb https://t.co/f5ow68eANi'}, {'id': '1519492092120244224', 'lang': 'en', 'text': 'Planting and Dividing Bearded Iris Corms https://t.co/0frjIaVJtT #garden #bulb #Flowers'}, {'id': '1519491829468581889', 'lang': 'en', 'text': \"@BoilieO I mean....this says it all. \\n\\nThis pansy wouldn't know how to change a light bulb. https://t.co/Mlf44OjOIv\"}, {'id': '1519491737823027200', 'lang': 'en', 'text': '“…Pakistan is experiencing intervals of wet bulb temps reaching 35 C/ 99 F, which is the absolute limit of human tolerance” https://t.co/7QyebVPMHl'}, {'id': '1519491689731469312', 'lang': 'en', 'text': 'Wet Bulb Temperature conditions 35C + 100% relative humidity. https://t.co/r3I9RkuTxi'}, {'id': '1519491454246211585', 'lang': 'en', 'text': 'Im not dimming my light for anybody!! I think my bulb is the brightest in the room. Everyone should feel like this about themselves.'}, {'id': '1519491317570715649', 'lang': 'en', 'text': 'Remember when you thought that a light bulb would go off and you’d be ready for the NBA? https://t.co/0Hz38ufwWc'}, {'id': '1519491159613005825', 'lang': 'en', 'text': 'Yes , Anne thinks, seeing the reflection from the streetlamp bulb glisten in her eyes. Feeling the soft, cool hands around her forearm. A thousand times yes.'}, {'id': '1519490970458357761', 'lang': 'en', 'text': '@ownsarah @mikesroberti In high school I worked at a bulb farm Western WA where bulbs were picked &amp; then packed &amp; sent to Holland where they were sold as bulbs from Holland.'}, {'id': '1519490840900640773', 'lang': 'en', 'text': 'Another leftist dull bulb nominee https://t.co/tlDvma01CP'}, {'id': '1519489974130913284', 'lang': 'en', 'text': '@712Allyana @cookie_aunty @aburkhartlaw @lisamarie2174 I feel my IQ drop when I read that dim bulb.'}, {'id': '1519489902509006850', 'lang': 'en', 'text': '@Roshan_Rinaldi The dimmest bulb in the box.'}, {'id': '1519489817947500545', 'lang': 'en', 'text': 'Last 3 days for Yeelight Earth Day discount! Get smart lights for our home planet!\\nWin free Yeelight Smart Bulb W3 (4 Packs) (Multicolor) here: https://t.co/M3pJDKLDvY \\nGet your 15% off site-wide discount (US Official Store) here: https://t.co/AoWlegGZEc\\n#YeelightEarthDay https://t.co/SgDQvLMU7j'}, {'id': '1519489633196949504', 'lang': 'en', 'text': 'Light bulb working since 1901!  Now they burn out fast. Centennial Light is at Fire Station 6 in Livermore (CA).\\n\\nLight Bulb got invented at 87 E Adelaide (Toronto), patented 1874. But no local wanted to fund it. So Thomas Edison bought patent 1876 &amp; lit up NYC by 1882. https://t.co/ysDLiKmrWI'}, {'id': '1519489379315732481', 'lang': 'en', 'text': '@ThomB01 @_waleedshahid Welp, she is not the brightest bulb on the bush...I mean tree.'}, {'id': '1519488614387920897', 'lang': 'en', 'text': '@BrendanNyhan I grew up in the Bay Area too. My Dad was a student and teacher at both Stanford and Berkeley. He was brilliant, but he could not screw in a light bulb. Education is nothing without common sense. That’s the problem.'}, {'id': '1519488395298451456', 'lang': 'en', 'text': '@bright_bulb_ Wait who is going down 😅 let’s clear this.'}, {'id': '1519488172878610432', 'lang': 'en', 'text': 'Incandescent light bulbs to get switched off in 2023 under new rules - CBS News https://t.co/BYANZMWAbJ via @GoogleNews'}, {'id': '1519487612406452224', 'lang': 'en', 'text': 'Jee with only one wada bulb 💡 #امپورٹڈ_حکومت_نامنظور\\n#MarchAgainstImportedGovt https://t.co/adYjjdNUaO'}, {'id': '1519487515681566720', 'lang': 'en', 'text': \"$20 per bulb now instead of $20 a pair as it was like 3 years ago so that's great\"}, {'id': '1519487484463357953', 'lang': 'en', 'text': '@_sunnysmiles_ My gender has never been the brightest bulb in the lamp.'}, {'id': '1519487417228701696', 'lang': 'en', 'text': \"Oh yeah and to make things more fun I had to plug it back in to pass inspection which now has photos otherwise I would not be allowed to work and therefore pay new expense, and the cable fused to the bulb and won't come off thus risking more melt or another fried bulb lmao\"}, {'id': '1519486599046000640', 'lang': 'en', 'text': '@Fallibilist1 Bulb bi ijaad kia ! forgot to mention'}, {'id': '1519486576434110464', 'lang': 'en', 'text': 'New Rules Will End the Century-Long Run of Classic Light Bulbs https://t.co/0PCk5u0PFD'}, {'id': '1519486481315868675', 'lang': 'en', 'text': \"@Ayishas12 I was curious about the wet bulb measurement. 😳 that is literally unlivable. So sad that people don't take the climate crisis more seriously.\"}, {'id': '1519485936970702848', 'lang': 'en', 'text': '@stickytoffita @CryptoBulbNFT Love Bulb Inviting u to Join the Love Revolution and Spread Love all around the World\\n#NFT #NFTs #NFTCommunity #NFTartist #nftart #NFTProject #FollowTheLight #nftcollectors #NFTcollectible #NFTCollection #NFTGiveaway #BulbHeads @opensea https://t.co/3IDDfHSQqG'}, {'id': '1519485917765025797', 'lang': 'en', 'text': '@RevRevvinEv I understand completely! Math was the first subject I came across that made me “think” . I remember shouting in the class, the teacher looking at me, watching the wheels turn and the light bulb go off!'}, {'id': '1519485691792658434', 'lang': 'en', 'text': 'Here are the materials, now light the light bulb 💡 https://t.co/hMAnowBDtA'}, {'id': '1519485618824388608', 'lang': 'en', 'text': '@AvyleZisCool You and Bulb will be featured in Episode 4 ;3 https://t.co/LFYviMngPl'}, {'id': '1519485611413061632', 'lang': 'en', 'text': 'Made a delicious pork neck soup. Roasted bones and meat before boiling up the broth. Added apple cider vinegar, salt with orange and lemon zest, red pepper flake, chili powder and a little cinnamon. Two onions, bulb of garlic. One pound of carrots (got the perfect texture on ‘em) https://t.co/WFMZXBFyaC'}, {'id': '1519485070612086785', 'lang': 'en', 'text': 'I bought a light bulb from the dollar store hopefully it doesn’t explode'}, {'id': '1519485052832284672', 'lang': 'en', 'text': '@Explosions_Fire This is disastrous from an environmental standpoint. LED bulbs and CFLs are loaded with plastics and e-waste instead of a bit of glass and metal. Unless they can ensure bulb manufacturers are making them for longevity, this will massively increase e-waste.'}, {'id': '1519485038160539648', 'lang': 'en', 'text': \"@myGEENI just bought a new bulb but it won't connect no matter what I do. I've tried resetting my router, moving it to different bulbs, manual mode, auto mode, different devices, different accounts. It shows up in my WiFi list if I do manual but it still doesn't work.\"}, {'id': '1519484362097496064', 'lang': 'en', 'text': '@NoLieWithBTC @RightWingWatch well, we always knew she lost her mind and was a very dim bulb.'}, {'id': '1519483457356939265', 'lang': 'en', 'text': 'replaced the 600 smth lumen bulb with an 800smth lumen bulb and now walking into the ktichen is very much an experience described by this meme https://t.co/KYiCJft956'}, {'id': '1519483423739760640', 'lang': 'en', 'text': 'How many straight San Franciscans does it take to screw in a light bulb? Both of them.'}, {'id': '1519483304327749638', 'lang': 'en', 'text': 'Garlic Oil Painting  French Garlic Bulb Small Wall Art https://t.co/YizSZZ3H2G #botanical #painting homedecor gift #oilpainting https://t.co/Phuvhmtcdf'}, {'id': '1519483277391900672', 'lang': 'en', 'text': '@bright_bulb_ I’m listening.'}, {'id': '1519483249357111296', 'lang': 'en', 'text': '@ultineet @WistfulHopes I HAVE A BULB, JACK\\nTHAT EVERY AMERICAN CAN PHOTOSYNTHESIZE ON THEIR OWN FREE WILL'}, {'id': '1519483089915084800', 'lang': 'en', 'text': \"@ian_ianm8349 @TheTeetering I'm very confused about this light bulb business. I haven't really encountered it before! Lightbulbs are very simple to change (unless you have those horrible ring bulbs, ugh)--wouldn't whoever notices it's out just pop a new one in?\\n\\nAsk your partner, we need data!!\"}, {'id': '1519482984600150020', 'lang': 'en', 'text': 'Wet bulb https://t.co/ogAVdh9all'}, {'id': '1519482929470222336', 'lang': 'en', 'text': '@INickStradMTG Alright no roast for bean... But maybe I can work with bean to roast... you. Clearly staring at the \"light bulb in a cage\" just thinking \"why the hell is the light bulb in a cage!?\" I agree Bean, I agree'}, {'id': '1519482673454067714', 'lang': 'en', 'text': 'Changing a headlight bulb in my car has to be the easiest yet most frustrating thing in the world 🤬'}, {'id': '1519482552603529218', 'lang': 'en', 'text': '@_NftCollectors @cybotz_nft @CryptoBulbNFT Lets Spread Love with our Art and vanquish hatred from the World...Says Love Bulb\\n#NFT #NFTs #NFTCommunity #NFTartist #nftart #NFTProject #FollowTheLight #nftcollectors #NFTcollectible #NFTCollection #NFTGiveaway #BulbHeads @opensea https://t.co/7Vj0rJjo9e'}, {'id': '1519482166308077569', 'lang': 'en', 'text': 'I’m having Maddow and a tulip bulb catalog. 💐👏🏼🥰💖😎'}, {'id': '1519481882877911040', 'lang': 'en', 'text': '***Swipe Left and Flip the light 💡 bulb upside down 🙂🙃***\\n—\\nWhy people love working with my venture studio. \\n—\\nThis is what I love about the work. Helping people! \\n—\\nAnd we are just getting started folks! Stay tuned 📺! \\n\\n#pmbrandsllc💡🙂 \\n#venturestudios \\n#venturecapital https://t.co/R24m5jpnjN'}, {'id': '1519481773561888768', 'lang': 'en', 'text': '@KATVNews Yeah - guess who is buying these cheap light bulbs - people that can’t afford to buy a $5 bulb'}, {'id': '1519481751411777539', 'lang': 'en', 'text': 'Government gone wild, light bulb edition. \\n\\nThe Energy Department will block sales of inefficient light bulbs https://t.co/PjP93bdNjt'}, {'id': '1519480972504350723', 'lang': 'en', 'text': \"@utuspring @Strandjunker You've probably never been accused of being the brightest bulb in a room. Have you?\"}, {'id': '1519480781218983937', 'lang': 'en', 'text': '#hashtag2 Tango LED Light Bulb https://t.co/UqN66NmIOT https://t.co/u2cAessRRG'}, {'id': '1519480492176814081', 'lang': 'en', 'text': 'This light bulb is literally freedom for 7 million people who are negotiating immunocompromise and millions more who just do not want to get covid at all or get it again.   \\n\\nIf people mount resistance to fucking life saving light bulbs I’m going to lose my mind.'}, {'id': '1519480480827002880', 'lang': 'en', 'text': '@Connor_is_lovly I just use the walmart generic floor lamp, but I  have a fancy wifi bulb in it.'}, {'id': '1519480479547748353', 'lang': 'en', 'text': \"sure it's shiny silver ring was facing forward, falling downward toward the cleft of her breasts. Claiming a red jeweled plug and a tube of K-Y from the dresser, she smeared the sterling silver bulb with the lubricant, then carefully, oh, so carefully inserted it into that &gt;\"}, {'id': '1519480467195678721', 'lang': 'en', 'text': '@laurenboebert @elonmusk The RNC cancelled debate, light bulb'}, {'id': '1519480449629839360', 'lang': 'en', 'text': \"@izabella1955 @elonmusk BTW, block people. You can shut off dm's. You can also report dm's. Not the brightest bulb.\"}, {'id': '1519480116669304833', 'lang': 'en', 'text': \"@JamesMo21471442 If you've done these steps, you may also try to reset your Lenovo Smart Bulb. Here's how https://t.co/oz9Sw0dyHP. Then try to set it up again. Fraineee_Lenovo2/2 https://t.co/PFVHAXjbAE\"}, {'id': '1519479818873622529', 'lang': 'en', 'text': 'Someone swapped out the light bulb under the railroad tracks at Elston and Forest Glen Avenue. Amazing. https://t.co/EecKzs5Jxn'}, {'id': '1519479038355591169', 'lang': 'en', 'text': '@JohnAltenburger @gator_gum More like a burnt out light bulb.'}, {'id': '1519478994848133121', 'lang': 'en', 'text': '@GlobalEcoGuy In presentations: “The light from an incandescent bulb represents less than 5% of the original energy in a lump of coal.\\n\\n“Working on the demand side, including DER at/near the load, does far more for energy savings than improving a coal plant by 2%.”\\n\\nThat got their attention.'}, {'id': '1519478593574903815', 'lang': 'en', 'text': '@BoSnerdley Not the brightest bulb are we? 😂'}, {'id': '1519478532912685057', 'lang': 'en', 'text': \"Hey @JetBrainsRider, why do I need keep getting suggestions to use 'var' when I've set that to never be suggested? I've turned it off from the light bulb icon and directly from Editor&gt;Inspection Settings&gt;Inspection Severity&gt;C#, but I still see the suggestions, and it's annoying.\"}, {'id': '1519478391308636160', 'lang': 'en', 'text': 'Lovedima 4 Bulb Lantern Cube Style Wooden Chandelier Fixture Antique Grey Gold https://t.co/xaa7YeuxkC eBay'}, {'id': '1519478196126818304', 'lang': 'en', 'text': 'The Clar mirror headlight was invented by Konrad Clar (1844-1904), an Austrian balneologist (specialist in medicinal springs) and physician, in 1886. This consisted of a concave mirror, 2 eye holes, and an incandescent bulb, used to examine the larynx. https://t.co/5QGpkqJc4c'}, {'id': '1519477986063495168', 'lang': 'en', 'text': '@sensualtopics Have you tried the wand with the spiral or with the bumps after the bulb?'}, {'id': '1519477876793524226', 'lang': 'en', 'text': '@MelonyWhiteArt @CryptoBulbNFT Mint Love Bulb if U Support The Love Revolution\\n#NFT #NFTs #NFTCommunity #NFTartist #nftart #NFTProject #FollowTheLight #nftcollectors #NFTcollectible #NFTCollection #NFTGiveaway #BulbHeads @opensea https://t.co/QTNBiztRc8'}, {'id': '1519477849421402114', 'lang': 'en', 'text': 'As soon as I moved into my house I replaced every light bulb in the bitch with LEDs. Best choice of my life https://t.co/CrvHRFoQ1l'}, {'id': '1519477781960302593', 'lang': 'en', 'text': '@RonColeman @shaunking @elonmusk At least the fascist tactics the tech monopolies use are coming out in the open from the lefties.\\nLet’s see if the light bulb ever turns on and @shaunking realizes that everyone is a target, including him.\\nI can hope that he’s not a dope.'}, {'id': '1519477548928970752', 'lang': 'en', 'text': '@gator_gum As bright as a 2 watt bulb'}, {'id': '1519477517966405633', 'lang': 'en', 'text': \"Sorry I couldn't finish my blog entry. My light bulb broke.\"}, {'id': '1519477218929479680', 'lang': 'en', 'text': '@BillKristol @RepMTG She’s a dim bulb'}, {'id': '1519476672021544960', 'lang': 'en', 'text': \"Braindead flips the switch on President Trump's incandescent light bulb plan\\n\\nhttps://t.co/xfVWHgFyW6\"}, {'id': '1519476646889549825', 'lang': 'en', 'text': '@ahnafirsyad_76 Also:\\nNumerous potholes and road humps.\\nBlinded by intense white light from cars and even motor cycles. Even old vehicles change the bulb.'}, {'id': '1519475985703485442', 'lang': 'en', 'text': '@Marketplace Why not tulip bulb funds?'}, {'id': '1519475736104550406', 'lang': 'en', 'text': '@MaTTFLaMMaBLe @mmpadellan Government assistance should only be used if you’re literally incapable of working. You’re not the brightest bulb. Maybe someday you’ll get a job at the nations 5th largest bank 😂😂'}, {'id': '1519475575592738822', 'lang': 'en', 'text': '@laurenboebert @elonmusk Dear lord you’re not the brightest bulb are you?'}, {'id': '1519475103540645889', 'lang': 'en', 'text': '@yogetoth @CryptoBulbNFT Love Bulb says The Wealthiest Person in the world is not the one with the Most Dollars but the one Who is Loved by Many\\n#NFT #NFTs #NFTCommunity #NFTartist #nftart #NFTProject #FollowTheLight #nftcollectors #NFTcollectible #NFTCollection #BulbHeads @opensea https://t.co/p77qV5SrGa'}, {'id': '1519474910766247937', 'lang': 'en', 'text': 'And she is married to a Pedofyle. She is bright as a burnt out light bulb. Trump is a murderer. lockhimup https://t.co/9jHKC3BrYs'}, {'id': '1519474788632248320', 'lang': 'en', 'text': '@andrewmalea That’s what I’m thinking. They keep mentioning opioids and that set off a light bulb with Sheila. Seems she plans to kill her making look like an over dose. I guess once that fails, addiction kicks in'}, {'id': '1519474722030895105', 'lang': 'en', 'text': '@WabisukiNFT @CryptoBulbNFT Love Bulb says U can be the happiest person in the world just by Loving Everybody\\n#NFT #NFTs #NFTCommunity #NFTartist #nftart #NFTProject #FollowTheLight #nftcollectors #NFTcollectible #NFTCollection #NFTGiveaway #BulbHeads @opensea https://t.co/XAsCx5iCi1'}, {'id': '1519474703903174657', 'lang': 'en', 'text': 'You’ve likely heard of the ‘light bulb moment.’ That eureka moment when you think of an illuminating new idea for a product or project. Have you ever thought about making that idea a reality? Boston-based DLE leader Jonathan Katz has.\\n\\nhttps://t.co/VDFiQKF5rD https://t.co/juPI5A6xhh'}, {'id': '1519474520767094784', 'lang': 'en', 'text': 'Affect Bulb Mite has on Onions Affect Bulb Mite has on Onions. I need a 3 page term paper with 3 or 4 sources written and the subject is: what effect does bulb https://t.co/5qB25GVREp #paydomyhomework'}, {'id': '1519474409916055552', 'lang': 'en', 'text': '@SkurpySocial @CryptoBulbNFT Love Bulb From the Land of Love\\n#NFT #NFTs #NFTCommunity #NFTartist #nftart #NFTProject #FollowTheLight #nftcollectors #NFTcollectible #NFTCollection #NFTGiveaway #BulbHeads @opensea https://t.co/qEnYKrkMYx'}, {'id': '1519474119590531073', 'lang': 'en', 'text': '@erykmedykowski @CryptoBulbNFT Mint Love Bulb and Master the Art of Love\\n#NFT #NFTs #NFTCommunity #NFTartist #nftart #NFTProject #FollowTheLight #nftcollectors #NFTcollectible #NFTCollection #NFTGiveaway #BulbHeads @opensea https://t.co/xtKzwohpGk'}, {'id': '1519474110589399040', 'lang': 'en', 'text': \"@SheetalPronamo Good thoughts....\\nJust because something is told softly and calmly doesn't mean it's all correct.\\nWithout modern day bulb or would have been difficult for today's people to lead normal life. \\nAll things are appropriate in their era\"}, {'id': '1519474063273508864', 'lang': 'en', 'text': 'New Rules Will End the Century-Long Run of Classic Light Bulbs https://t.co/3OgzJVFHrX'}, {'id': '1519474055895818247', 'lang': 'en', 'text': '@nokomisma @Jack_Petocz @Publix L🤡L Yeah he’s a “light” alright, a dim bulb.'}, {'id': '1519473858448920576', 'lang': 'en', 'text': 'The experiment selects Holland Lily variety Sorbonne bulb, the terminal bud, the stem section, the leaf and so on, as is best, by MS +6-BA 2.'}, {'id': '1519473541045014529', 'lang': 'en', 'text': 'DLP Projector Replacement Lamp Bulb Fit For Mitsubishi 915P106A10 WD-60735 Rear Projection HDTV\\xa0TV https://t.co/7bzBmUrDVJ'}, {'id': '1519473119458586624', 'lang': 'en', 'text': \"We put B.J. Novak's pet ground hog (who works as an soldier) and their light bulb in a physalis and now they are feeling dreamy\"}, {'id': '1519472889292107777', 'lang': 'en', 'text': \"That's how it works, no? Tareekiyan hie khatam karne ke liye Edison invented the light bulb and electricity and people used fire lanterns and candles! \\n\\nMehendi lagwaani hai soch rahi hou... Might go a bit extra. Already have the jhumkas and chapals and something to wear! https://t.co/0TWSq6fCNx\"}, {'id': '1519472837974802432', 'lang': 'en', 'text': \"@FoxBusiness Once you go LED, you don't go back.  I once thought the light bulb police was a little to much but it really is a no brainer.\"}]\n"
     ]
    }
   ],
   "source": [
    "# YOU ARE REQUIRED TO INSERT YOUR CODE IN THIS CELL\n",
    "'''\n",
    "Your task is to write the code to perform three function calls, each corresponds to one keyword. \n",
    "And, you are required to collect at least 200 tweets for each key word.\n",
    "'''\n",
    "\n",
    "# Collecting the tweets for three assigned keywords, \n",
    "# Your function call should look like this:  \n",
    "#      retrieve_tweets(api, keyword, batch_count, total_count, latitude, longitude, delta_lat, delta_lon)\n",
    "\n",
    "k1_tweets = retrieve_tweets(api, \"bulb\", 100, 200, PLACE_LAT, PLACE_LON, DELTA_LAT, DELTA_LON) #INSERT YOUR CODE HERE\n",
    "k2_tweets = retrieve_tweets(api, \"seed\", 100, 200, PLACE_LAT, PLACE_LON, DELTA_LAT, DELTA_LON) #INSERT YOUR CODE HERE\n",
    "k3_tweets = retrieve_tweets(api, \"debt\", 100, 200, PLACE_LAT, PLACE_LON, DELTA_LAT, DELTA_LON) #INSERT YOUR CODE HERE\n",
    "\n",
    "# PLEASE NOTE THAT IF YOU RUN THIS CELL, IT MIGHT TAKE A WHILE TO DOWNLOAD ALL THE TWEETS REQUIRED.\n",
    "# MAKE SURE THAT YOU WAIT UNTILL THE CELL FINISHES RUNNING."
   ]
  },
  {
   "cell_type": "markdown",
   "metadata": {},
   "source": [
    "**Instruction 1.5**. To verify the downloading process, write your code to print out the number of tweets which has been collected for each keyword.\n",
    "\n",
    "[**Total mark: 2**]"
   ]
  },
  {
   "cell_type": "code",
   "execution_count": 19,
   "metadata": {},
   "outputs": [
    {
     "name": "stdout",
     "output_type": "stream",
     "text": [
      "213\n",
      "213\n",
      "214\n"
     ]
    }
   ],
   "source": [
    "# YOU ARE REQUIRED TO INSERT YOUR CODE IN THIS CELL\n",
    "'''\n",
    "Write your code to print the number of tweets have been collected for each keyword\n",
    "'''\n",
    "# INSERT YOUR CODE HERE\n",
    "print(len(k1_tweets))\n",
    "print(len(k2_tweets))\n",
    "print(len(k3_tweets))"
   ]
  },
  {
   "cell_type": "markdown",
   "metadata": {},
   "source": [
    "**Note:** Each tweet is stored in a dictionary where its keywords are fields in the tweet and values are the information of the fields. The cell below print the type of a tweet."
   ]
  },
  {
   "cell_type": "code",
   "execution_count": 8,
   "metadata": {},
   "outputs": [
    {
     "name": "stdout",
     "output_type": "stream",
     "text": [
      "<class 'dict'>\n"
     ]
    }
   ],
   "source": [
    "# Data type of tweets\n",
    "print(type(k1_tweets[0]))"
   ]
  },
  {
   "cell_type": "markdown",
   "metadata": {},
   "source": [
    "**Instruction 1.6**.  To examine what the tweets look like, in the cell below write your code to print out all fields of the first tweet in `k1_tweets` and print out the text of the first tweet collected for each keyword.\n",
    "\n",
    "[**Total mark: 4**]"
   ]
  },
  {
   "cell_type": "code",
   "execution_count": 18,
   "metadata": {},
   "outputs": [
    {
     "name": "stdout",
     "output_type": "stream",
     "text": [
      "dict_keys(['id', 'lang', 'text'])\n",
      "\n",
      "The text of the first tweet for \"bulb\":\n",
      "\n",
      "@stacia_vandi $1.14, but when I when I went to Maine, they still had analog pumps that required you pumping the bulb.  Had no clue!  The guy looked at me in disgust after helping me.\n",
      "\n",
      "The text of the first tweet for \"seed\":\n",
      "\n",
      "Thought Philly was 3 seed, Bucks Celtics it is … 😵\n",
      "\n",
      "The text of the first tweet for \"debt\":\n",
      "\n",
      "@Nadine_Writes Debt slaves? Hahaha really\n"
     ]
    }
   ],
   "source": [
    "# YOU ARE REQUIRED TO INSERT YOUR CODE IN THIS CELL\n",
    "'''\n",
    "Write your code to print out all fields of the first tweet\n",
    "Hint: You might want to use method keys() of the dictionary\n",
    "'''\n",
    "# INSERT YOUR CODE HERE\n",
    "\n",
    "print(k1_tweets[0].keys())\n",
    "\n",
    "'''\n",
    "Write your code to print out the text of the first  tweet collected for each keyword.\n",
    "'''\n",
    "\n",
    "print(\"\\nThe text of the first tweet for \\\"{}\\\":\\n\".format(keywords[0]))\n",
    "# INSERT YOUR CODE HERE\n",
    "print(k1_tweets[0]['text'])\n",
    "\n",
    "print(\"\\nThe text of the first tweet for \\\"{}\\\":\\n\".format(keywords[1]))\n",
    "# INSERT YOUR CODE HERE\n",
    "print(k2_tweets[0]['text'])\n",
    "\n",
    "\n",
    "print('\\nThe text of the first tweet for \\\"{}\\\":\\n'.format(keywords[2]))\n",
    "# INSERT YOUR CODE HERE\n",
    "print(k3_tweets[0]['text'])"
   ]
  },
  {
   "cell_type": "markdown",
   "metadata": {},
   "source": [
    "**Note**. When collecting data from the Internet, such as Twitter, it is important that we store the data collected in an appropriate format for later data analysis task. We have learned that json is a poplular lightweight data format that can be handy to store unstructured data. For example, with NoSQL we can directly query these files in a 'scaling out' fashion. These technologies are representative features of Big Data Analytics.\n",
    "\n",
    "The following function has been designed for you to save an object which is a list of dictionaries (such as k1_tweets variable) to a json file. **You will need this function for your next task**."
   ]
  },
  {
   "cell_type": "code",
   "execution_count": 10,
   "metadata": {},
   "outputs": [],
   "source": [
    "def save_to_json(obj, filename):\n",
    "    \"\"\"\n",
    "    saves a list of dictionaries into a json file\n",
    "    \n",
    "    obj: list of dictionaries\n",
    "    filename: filename\n",
    "    \"\"\"\n",
    "    with open(filename, 'w') as fp:\n",
    "        json.dump(obj, fp, indent=4, sort_keys=True)   "
   ]
  },
  {
   "cell_type": "markdown",
   "metadata": {},
   "source": [
    "**Instruction 1.7**. Use the function ***save_to_json()*** defined above, for each collection of tweets you have crawled for each keyword, save them into a file named **w.json** where **w** is the keyword.\n",
    "\n",
    "For example, if your keywords are 'w1', 'w2' and 'w3', then your code must generate three file w1.json, w2.json and w3.json. **Important: you must submit these files together with your notebook solution**.\n",
    "\n",
    "[**Total mark: 5**]"
   ]
  },
  {
   "cell_type": "code",
   "execution_count": 22,
   "metadata": {},
   "outputs": [],
   "source": [
    "# YOU ARE REQUIRED TO INSERT YOUR CODE IN THIS CELL\n",
    "\"\"\"\n",
    "Use the save_to_json() function defined above, for the collection of tweets \n",
    "you have crawled for each keyword, save them into a file named w.json where w is the keyword, taken from keywords list.\n",
    "\"\"\"\n",
    "# saving the tweets in three json files, one for each keyword\n",
    "#INSERT YOUR CODE HERE\n",
    "\n",
    "save_to_json(k1_tweets, \"bulb.json\")\n",
    "save_to_json(k2_tweets, \"seed.json\")\n",
    "save_to_json(k3_tweets, \"debt.json\")\n"
   ]
  },
  {
   "cell_type": "markdown",
   "metadata": {},
   "source": [
    "###                                     END OF PART 1\n",
    "----"
   ]
  },
  {
   "cell_type": "markdown",
   "metadata": {},
   "source": [
    "## Part 2: Data Analytics\n",
    "\n",
    "### NOTE: ONCE YOU LOADED THE TWEETS AND SAVED JSONS, YOU DO NOT NEED TO REDOWNLOAD THE TWEETS. YOU CAN LOAD THEM FROM JSONS IN THE FOLLOWING SECTION.\n",
    "\n",
    "The second part of this assignment will examine your skills and knowlege in data manipulation and analysis tasks. It includes three main components:\n",
    "\n",
    "**Part 2A**. For each keyword, you will be required to load the tweets from your saved json files (from Part 1) and filter out all tweets that are too short.\n",
    "\n",
    "**Part 2B**. Using your knowledge from practical sessions 5, 6 and 7, you will be required to construct the term-by-document matrix for the tweets and to perform visualisation tasks to understand them.\n",
    "\n",
    "**Part 2C**. You will apply the Kmeans clustering algorithm to cluster your tweets and report the clustering results.\n",
    "\n",
    "***Follow the instructions below to complete your assigned tasks***."
   ]
  },
  {
   "cell_type": "markdown",
   "metadata": {},
   "source": [
    "### Part 2A: Load and Filter Tweets from Files"
   ]
  },
  {
   "cell_type": "markdown",
   "metadata": {},
   "source": [
    "**Instruction 2.1**. The following function, named ***read_json_file()***, has been partially implemented to load data from a json file. This function will be used later on to load three json files you have saved from Part 1. Your task is to insert your own code where instructed to complete this function.\n",
    "\n",
    "[**Total mark: 3**]"
   ]
  },
  {
   "cell_type": "code",
   "execution_count": 12,
   "metadata": {},
   "outputs": [
    {
     "ename": "IndentationError",
     "evalue": "expected an indented block (Temp/ipykernel_6136/3098397518.py, line 13)",
     "output_type": "error",
     "traceback": [
      "\u001b[1;36m  File \u001b[1;32m\"C:\\Users\\sonof\\AppData\\Local\\Temp/ipykernel_6136/3098397518.py\"\u001b[1;36m, line \u001b[1;32m13\u001b[0m\n\u001b[1;33m    data = json.loads(content)\u001b[0m\n\u001b[1;37m    ^\u001b[0m\n\u001b[1;31mIndentationError\u001b[0m\u001b[1;31m:\u001b[0m expected an indented block\n"
     ]
    }
   ],
   "source": [
    "# YOU ARE REQUIRED TO INSERT YOUR CODE IN THIS CELL\n",
    "'''\n",
    "Insert your own code where instructed to complete this function\n",
    "'''\n",
    "def read_json_file(filename):\n",
    "    \"\"\"\n",
    "    reads from a json file and saves the result in a list named data\n",
    "    \"\"\"\n",
    "    with open(filename, 'r') as fp:\n",
    "    # INSERT THE MISSING PIECE OF CODE HERE\n",
    "\n",
    "    \n",
    "    data = json.loads(content)\n",
    "    return data     "
   ]
  },
  {
   "cell_type": "markdown",
   "metadata": {},
   "source": [
    "**Instruction 2.2**. Now use the ***read_json_file()*** function defined above, write three function calls to load data from three json files you have saved from Part 1.\n",
    "\n",
    "[**Total mark: 4**]"
   ]
  },
  {
   "cell_type": "code",
   "execution_count": null,
   "metadata": {},
   "outputs": [],
   "source": [
    "# YOU ARE REQUIRED TO INSERT YOUR CODE IN THIS CELL\n",
    "'''\n",
    "Write three function calls to load data from three json files you have saved from Part 1.\n",
    "'''\n",
    "\n",
    "k1_tweets = # INSERT YOUR CODE HERE\n",
    "k2_tweets = # INSERT YOUR CODE HERE\n",
    "k3_tweets = # INSERT YOUR CODE HERE"
   ]
  },
  {
   "cell_type": "markdown",
   "metadata": {},
   "source": [
    "**Instruction 2.3**. To examine the number of tweets loaded from your data files, write your code to print out the number of tweets containes in three variables: ***k1_tweets, k2_tweets*** and ***k3_tweets***.\n",
    "\n",
    "[**Total mark: 2**]"
   ]
  },
  {
   "cell_type": "code",
   "execution_count": null,
   "metadata": {},
   "outputs": [],
   "source": [
    "# YOU ARE REQUIRED TO INSERT YOUR CODE IN THIS CELL\n",
    "'''\n",
    "Write your code to print out the number of tweets containes in three variables: \n",
    "k1_tweets, k2_tweets and k3_tweets\n",
    "'''\n",
    "#INSERT YOUR CODE HERE\n"
   ]
  },
  {
   "cell_type": "markdown",
   "metadata": {},
   "source": [
    "**Note**. When analysing tweets and text documents in general, an important analytics skill is to pre-process and filter the data into the form that one can start to apply analytics methods to extract knowledge. \n",
    "\n",
    "Tweets that are too short might not be useful for analysis. We define that tweets having less than 50 characters are short and should be remove. "
   ]
  },
  {
   "cell_type": "markdown",
   "metadata": {},
   "source": [
    "**Instruction 2.4**. In this task, you need to filter all short tweets.\n",
    "\n",
    "1. Write a function called `is_short_tweet` that takes a tweet as an input and return True if the text of the tweet has less than 50 characters and False otherwise. **(5 marks)**\n",
    "\n",
    "2. Write your codes to remove all tweets that have less than 50 characters in variables ***k1_tweets***, ***k2_tweets*** and ***k3_tweets*** and store the results in the new variables ***k1_tweets_filtered***, ***k2_tweets_filtered*** and ***k3_tweets_filtered***, respectively. **(5 marks)**\n",
    "\n",
    "[**Total mark: 10**]"
   ]
  },
  {
   "cell_type": "code",
   "execution_count": null,
   "metadata": {},
   "outputs": [],
   "source": [
    "# YOU ARE REQUIRED TO INSERT YOUR CODE IN THIS CELL\n",
    "def is_short_tweet(tweet):\n",
    "    '''\n",
    "    Check if the text of \"tweet\" has less than 50 characters\n",
    "    '''\n",
    "    # INSERT YOUR CODE HERE"
   ]
  },
  {
   "cell_type": "code",
   "execution_count": null,
   "metadata": {},
   "outputs": [],
   "source": [
    "# YOU ARE REQUIRED TO INSERT YOUR CODES IN THIS CELL\n",
    "'''\n",
    "Write your codes to remove all tweets which have less than 50 characters in variables \n",
    "k1_tweets, k2_tweets and k3_tweets and store the results in the new variables \n",
    "k1_tweets_filtered, k2_tweets_filtered and k3_tweets_filtered respectively\n",
    "'''\n",
    "# INSERT YOUR CODE HERE\n",
    "k1_tweets_filtered = \n",
    "k2_tweets_filtered = \n",
    "k3_tweets_filtered = \n",
    "\n",
    "# these lines below print the number of tweets for each keyword before and after filtered.\n",
    "print(len(k1_tweets), len(k1_tweets_filtered))\n",
    "print(len(k2_tweets), len(k2_tweets_filtered))\n",
    "print(len(k3_tweets), len(k3_tweets_filtered))"
   ]
  },
  {
   "cell_type": "markdown",
   "metadata": {},
   "source": [
    "**Instruction 2.5**. For each keyword, print out the number of tweets that have been removed.\n",
    "\n",
    "[**Total mark: 2**]"
   ]
  },
  {
   "cell_type": "code",
   "execution_count": null,
   "metadata": {},
   "outputs": [],
   "source": [
    "# YOU ARE REQUIRED TO INSERT YOUR CODE IN THIS CELL\n",
    "'''\n",
    "For each keyword, print out the number of tweets that have been removed.\n",
    "'''\n",
    "\n",
    "# INSERT YOUR CODE HERE"
   ]
  },
  {
   "cell_type": "markdown",
   "metadata": {},
   "source": [
    "**Instruction 2.6**. To examine what the tweets look like after being loaded from the data files and filtered, in the cell below write your code to print out the first **5** tweets for each keyword. \n",
    "\n",
    "You **must** use the variables ***k1_tweets_filtered, k2_tweets_filtered*** and ***k3_tweets_filtered*** which have stored the data after the filtering process for this task.\n",
    "\n",
    "[**Total mark: 4**]"
   ]
  },
  {
   "cell_type": "code",
   "execution_count": null,
   "metadata": {},
   "outputs": [],
   "source": [
    "# YOU ARE REQUIRED TO INSERT YOUR CODE IN THIS CELL\n",
    "'''\n",
    "Write your code to print out the first 5 tweets for each keyword.\n",
    "You must use the variables k1_tweets_filtered, k2_tweets_filtered and k3_tweets_filtered \n",
    "which have stored the data after the filtering process for this task.\n",
    "\n",
    "Hint: Using tweet['text'] for tweet in k1_tweets_filtered\n",
    "'''\n",
    "\n",
    "print('The first 5 tweets for \\\"{}\\\":\\n'.format(keywords[0]))\n",
    "# INSERT YOUR CODE HERE\n",
    "\n",
    "\n",
    "print('\\nThe first 5 tweets for \\\"{}\\\":\\n'.format(keywords[1]))\n",
    "# INSERT YOUR CODE HERE \n",
    "\n",
    "\n",
    "print('\\nThe first 5 tweets for \\\"{}\\\":\\n'.format(keywords[2]))\n",
    "# INSERT YOUR CODE HERE\n"
   ]
  },
  {
   "cell_type": "markdown",
   "metadata": {},
   "source": [
    "### Part 2B: Constructing Term-by-Document Matrix\n",
    "\n",
    "As we have learned in our class, in text analytics and in general dealing with unstructured data, to start perform **computational** tasks such as computing the distance between two documents, we need to represent them in **numerical** formats. A popular technique we have learned is the bag-of-word representation and the term-by-document matrix, also known as the vector-space model.\n",
    "\n",
    "This part of the assignment will require you to construct the term-by-document matrix for the tweets stored in three variables ***k1_tweets_filtered***, ***k2_tweets_filtered*** and ***k3_tweets_filtered***."
   ]
  },
  {
   "cell_type": "markdown",
   "metadata": {},
   "source": [
    "**Note.** Tweets are often not neat as you might have seen from early tasks. As tweet such as this \n",
    "```\n",
    "Happy shopping👗👚👠👜 (with Vivi and Irmalia at @infomog) — https://t.co/fUGO9Eex1r\n",
    "```\n",
    "might contain non-ASCII characters, emoticon, punctuations, etc. Building a bag-of-word representation **without** pre-processing the data can be ineffective. \n",
    "\n",
    "The following function ***pre_process()*** has been designed to preprocess the data for you."
   ]
  },
  {
   "cell_type": "code",
   "execution_count": null,
   "metadata": {},
   "outputs": [],
   "source": [
    "def remove_non_ascii(s): return \"\".join(i for i in s if ord(i)<128)\n",
    "def pre_process(doc):\n",
    "    \"\"\"\n",
    "    pre-processes a doc\n",
    "      * Converts the tweet into lower case,\n",
    "      * removes the URLs,\n",
    "      * removes the punctuations\n",
    "      * tokenizes the tweet\n",
    "      * removes words less that 3 characters\n",
    "    \"\"\"\n",
    "    \n",
    "    doc = doc.lower()\n",
    "    # getting rid of non ascii codes\n",
    "    doc = remove_non_ascii(doc)\n",
    "    \n",
    "    # replacing URLs\n",
    "    url_pattern = \"http://[^\\s]+|https://[^\\s]+|www.[^\\s]+|[^\\s]+\\.com|bit.ly/[^\\s]+\"\n",
    "    doc = re.sub(url_pattern, 'url', doc) \n",
    "\n",
    "    # removing dollars and usernames and other unnecessary stuff\n",
    "    userdoll_pattern = \"\\$[^\\s]+|\\@[^\\s]+|\\&[^\\s]+|\\*[^\\s]+|[0-9][^\\s]+|\\~[^\\s]+\"\n",
    "    doc = re.sub(userdoll_pattern, '', doc)\n",
    "    \n",
    "    \n",
    "    # removing punctuation\n",
    "    punctuation = r\"\\(|\\)|#|\\'|\\\"|-|:|\\\\|\\/|!|\\?|_|,|=|;|>|<|\\.|\\@\"\n",
    "    doc = re.sub(punctuation, ' ', doc)\n",
    "    \n",
    "    return [w for w in doc.split() if len(w) > 2]"
   ]
  },
  {
   "cell_type": "markdown",
   "metadata": {},
   "source": [
    "**Note**. For example, the following code will display the first tweet stored in the variable ***k1_tweets_filtered*** (for the first keyword) before and after it has been pre-processed."
   ]
  },
  {
   "cell_type": "code",
   "execution_count": null,
   "metadata": {},
   "outputs": [],
   "source": [
    "tweet_k1 = k1_tweets_filtered[0]['text']\n",
    "tweet_k1_processed = pre_process(tweet_k1)\n",
    "\n",
    "print(tweet_k1)\n",
    "# tweet_k1_processed is now a list of words. \n",
    "# We use ' '.join() method to join the list to a string.\n",
    "print(' '.join(tweet_k1_processed))"
   ]
  },
  {
   "cell_type": "markdown",
   "metadata": {},
   "source": [
    "**Instruction 2.7**. Use the example above, write your code to display the **first** tweets stored in the variables ***k2_tweets_filtered*** and ***k2_tweets_filtered*** before and after they have been pre-processed using the function ***pre_process()*** supplied earlier.\n",
    "\n",
    "[**Total mark: 1**]"
   ]
  },
  {
   "cell_type": "code",
   "execution_count": null,
   "metadata": {},
   "outputs": [],
   "source": [
    "# YOU ARE REQUIRED TO INSERT YOUR CODE IN THIS CELL\n",
    "'''\n",
    "Use the example above, write your code to display the first tweets stored in \n",
    "the variables k2_tweets_filtered and k3_tweets_filtered before and after they \n",
    "have been pre-processed using the function pre_process() supplied earlier.\n",
    "'''\n",
    "\n",
    "# INSERT YOUR CODE HERE\n"
   ]
  },
  {
   "cell_type": "markdown",
   "metadata": {},
   "source": [
    "**Instruction 2.8**. Write your code to pre-process and clean up all tweets stored in the variable ***k1_tweets_filtered***, ***k2_tweets_filtered*** and ***k3_tweets_filtered*** using the function ***pre_process()*** to result in new variables ***k1_tweets_processed***, ***k2_tweets_processed*** and ***k3_tweets_processed***.\n",
    "\n",
    "[**Total mark: 2**]"
   ]
  },
  {
   "cell_type": "code",
   "execution_count": null,
   "metadata": {},
   "outputs": [],
   "source": [
    "# YOU ARE REQUIRED TO INSERT YOUR CODE IN THIS CELL\n",
    "'''\n",
    "Write your code to pre-process and clean up all tweets \n",
    "stored in the variable k1_tweets_filtered, k2_tweets_filtered and k3_tweets_filtered using the \n",
    "function pre_process() to result in new variables k1_tweets_processed, k2_tweets_processed \n",
    "and k3_tweets_processed.\n",
    "'''\n",
    "# INSERT YOUR CODE HERE\n"
   ]
  },
  {
   "cell_type": "markdown",
   "metadata": {},
   "source": [
    "**Instruction 2.9**. Now, write your code to print out the **first 5 processed tweets** for each keyword *(the processed tweets are stored in **k1_tweets_processed**, **k2_tweets_processed** and **k3_tweets_processed**)*\n",
    "\n",
    "[**Total mark: 2**]"
   ]
  },
  {
   "cell_type": "code",
   "execution_count": null,
   "metadata": {
    "scrolled": true
   },
   "outputs": [],
   "source": [
    "# YOU ARE REQUIRED TO INSERT YOUR CODE IN THIS CELL\n",
    "'''\n",
    "Now write your code to print out the first 5 processed tweets for each keyword.\n",
    "Hint: Each tweet in tweets_processed is now a list of words, not a string. \n",
    "      To print a string, you might need to use ' '.join(tweet), \n",
    "      when tweet is a processed tweet\n",
    "\n",
    "'''\n",
    "\n",
    "print('The first 5 processed tweets for k1_tweets_processed:')\n",
    "# INSERT YOUR CODE HERE\n",
    "\n",
    "\n",
    "\n",
    "print('\\nThe first 5 processed tweets for k2_tweets_processed:')\n",
    "# INSERT YOUR CODE HERE\n",
    "\n",
    "\n",
    "\n",
    "print('\\nThe first 5 processed tweets for k3_tweets_processed:')\n",
    "# INSERT YOUR CODE HERE\n"
   ]
  },
  {
   "cell_type": "markdown",
   "metadata": {},
   "source": [
    "**Note**. The following function ***construct_termdoc()*** has been implemented to construct the term-by-document matrix from a corpus of text data. **You will need this function for subsequent task**."
   ]
  },
  {
   "cell_type": "code",
   "execution_count": null,
   "metadata": {},
   "outputs": [],
   "source": [
    "def construct_termdoc(docs, vocab=[]):\n",
    "    \"\"\"\n",
    "    Construct a term-by-document-matrix\n",
    "    \n",
    "    docs: corpus\n",
    "    vocab: pre-defined vocabulary\n",
    "           if not supplied it will be automatically induced from the data\n",
    "    \n",
    "    returns the term-by-document matrix and the vocabulary of the passed corpus\n",
    "    \"\"\"\n",
    "    \n",
    "    # vocab is not passed\n",
    "    if vocab == []:\n",
    "        vocab = set()\n",
    "        termdoc_sparse = []\n",
    "\n",
    "        for doc in docs:       \n",
    "            # computes the frequencies of doc\n",
    "            doc_sparse = Counter(doc)    \n",
    "            termdoc_sparse.append(doc_sparse)\n",
    "            \n",
    "            # update the vocab\n",
    "            vocab.update(doc_sparse.keys())  \n",
    "\n",
    "        vocab = list(vocab)\n",
    "        vocab.sort()\n",
    "    \n",
    "    else:\n",
    "        termdoc_sparse = []        \n",
    "        for doc in docs:\n",
    "            termdoc_sparse.append(Counter(doc))\n",
    "            \n",
    "\n",
    "    n_docs = len(docs)\n",
    "    n_vocab = len(vocab)\n",
    "    termdoc_dense = np.zeros((n_docs, n_vocab), dtype=int)\n",
    "\n",
    "    for j, doc_sparse in enumerate(termdoc_sparse):\n",
    "        for term, freq in doc_sparse.items():\n",
    "            try:\n",
    "                termdoc_dense[j, vocab.index(term)] = freq\n",
    "            except:\n",
    "                pass\n",
    "            \n",
    "    return termdoc_dense, vocab"
   ]
  },
  {
   "cell_type": "markdown",
   "metadata": {},
   "source": [
    "**Instruction 2.10 (D)**. In the function ***construct_termdoc()***, a function **set** is used. Learn what this function does and explain its role in the function ***construct_termdoc()***. Write a brief answer.\n",
    "\n",
    "[**Total mark: 2**]"
   ]
  },
  {
   "cell_type": "code",
   "execution_count": null,
   "metadata": {},
   "outputs": [],
   "source": [
    "# In the function construct_termdoc(), a function \"set\" is used. Learn what this function does \n",
    "# and explain its role in the function construct_termdoc().\n",
    "# YOU ARE REQUIRED TO INSERT YOUR COMMENT IN THIS CELL\n",
    "#\n",
    "#"
   ]
  },
  {
   "cell_type": "markdown",
   "metadata": {},
   "source": [
    "**Note**. Now suppose that we would like to construct a term-by-document matrix for tweets collected for the **first keyword only**. The following piece of codes will do this by computing the term-by-document matrix and the vocabulary for tweets stored in **k1_tweets_processed**, print them out and visualise the corresponding term-by-document matrix stored in the variable ***k1_termdoc***. The corresponding vocabulary dictionary computed from this data will also be stored in the variable ***k1_vocab***."
   ]
  },
  {
   "cell_type": "code",
   "execution_count": null,
   "metadata": {},
   "outputs": [],
   "source": [
    "'''\n",
    "compute the term-by-document matrix and the the dictionary from the collection of \n",
    "tweets collected for the first keyword\n",
    "'''\n",
    "k1_termdoc, k1_vocab = construct_termdoc(k1_tweets_processed)\n",
    "\n",
    "# print out the term-by-document matrix\n",
    "print(k1_termdoc)\n",
    "# print out the first 5 vocabulary entries\n",
    "print(' '.join(k1_vocab[0:5]))  # print out only the first 5 vocabulary entries\n",
    "\n",
    "# visualise the term-by-document matrix\n",
    "fig, ax = plt.subplots(figsize=(10, 5))\n",
    "ax.imshow(k1_termdoc)\n",
    "ax.set_xlabel('term (vocabulary)')\n",
    "ax.set_ylabel('documents (tweets)')\n",
    "ax.set_title('Term-by-Document matrix from tweets collected for keyword \\\"{}\\\"'.format(keywords[0]))"
   ]
  },
  {
   "cell_type": "markdown",
   "metadata": {},
   "source": [
    "**Note**. Next, we would like to compute the pairwise distances between every two tweets. This will help us to see how similar tweets are. This is a computational task that would be *not* possible to do if we use the raw tweets.\n",
    "\n",
    "However, with the term-by-document matrix, each tweet now is vector and corresponds to a row in the term-by-document matrix. Hence, we can use the distance between vectors to compute the distance between tweets. This is also known as the **vector space model** in information retrieval literature."
   ]
  },
  {
   "cell_type": "markdown",
   "metadata": {},
   "source": [
    "**Instruction 2.11**. Your tasks are:\n",
    "\n",
    "1. Define a function to compute and return the Euclidean distance between two vectors as we have learned from the class notes. **(2 marks)**\n",
    "\n",
    "2. Define a function to compute and return the cosine distance between two vectors as we have learned from the class notes. **(2 marks)**\n",
    "\n",
    "3. Construct a single function that returns two distance matrices ***euclidean_distance_matrix***, and ***cosine_distance_matrix***, whose elements (i,j) store the Eulidean distance and the cosine distance between tweets i-th and i-jth. **You will need this function for subsequent task**. **(2 marks)**\n",
    "\n",
    "**[Total mark: 6]**"
   ]
  },
  {
   "cell_type": "code",
   "execution_count": null,
   "metadata": {},
   "outputs": [],
   "source": [
    "# YOU ARE REQUIRED TO INSERT YOUR CODE IN THIS CELL\n",
    "\n",
    "def Euclidean_distance(x,y):\n",
    "    '''\n",
    "    Compute and return the Euclidean distance between two vectors x and y\n",
    "    '''\n",
    "    # INSERT YOUR CODE HERE\n"
   ]
  },
  {
   "cell_type": "code",
   "execution_count": null,
   "metadata": {},
   "outputs": [],
   "source": [
    "# YOU ARE REQUIRED TO INSERT YOUR CODE IN THIS CELL\n",
    "def cosine_distance(x,y):\n",
    "    '''\n",
    "    Compute and return the cosine distance between two vectors x and y\n",
    "    '''\n",
    "    # INSERT YOUR CODE HERE\n"
   ]
  },
  {
   "cell_type": "code",
   "execution_count": null,
   "metadata": {},
   "outputs": [],
   "source": [
    "# YOU ARE REQUIRED TO INSERT YOUR CODE IN THIS CELL\n",
    "'''\n",
    "The function takes the termdoc matrix as the input and computes variables called \"euclidean_distance_matrix\" \n",
    "and \"cosine_distance_matrix\", which are matrices whose elements (i,j) store the Eulidean distance \n",
    "and the cosine distance between tweet i-th and i-jth.\n",
    "\n",
    "Hint: you should store the distance matrices in numpy arrays for easier implementation in subsequent tasks\n",
    "'''\n",
    "\n",
    "def compute_distance_matrices(termdoc):\n",
    "    # INSERT YOUR CODE HERE\n"
   ]
  },
  {
   "cell_type": "markdown",
   "metadata": {},
   "source": [
    "**Instruction 2.12**. \n",
    "\n",
    "1. Now you need to compute the distance matrices for **k1_termdoc** and then visualise these distance matrices. **(2 marks)**\n",
    "\n",
    "2. Explain why cosine distance is always in the range between 0 and 1. **(2 marks)**\n",
    "\n",
    "3. (HD) Using a scatter plot demonstrate relationship between Euclidean distance and cosine distance. **(2 marks)**\n",
    "\n",
    "4. (HD) Is there a relationship between Euclidean distance and cosine similarity? Explain. **(2 marks)**\n",
    "\n",
    "\n",
    "**[Total mark: 8]**"
   ]
  },
  {
   "cell_type": "code",
   "execution_count": null,
   "metadata": {},
   "outputs": [],
   "source": [
    "# YOU ARE REQUIRED TO INSERT YOUR CODE IN THIS CELL\n",
    "\n",
    "# compute the distance matrices for k1_termdoc using the function \"compute_distance_matrices\"\n",
    "# INSERT YOUR CODE HERE\n",
    "\n",
    "# Visualise the distance matrices for this keyword\n",
    "# Hint: use imshow() and colorbar() functions\n",
    "# INSERT YOUR CODE HERE\n"
   ]
  },
  {
   "cell_type": "code",
   "execution_count": null,
   "metadata": {},
   "outputs": [],
   "source": [
    "# Explain why cosine distance is always in the range between 0 and 1.\n",
    "# YOU ARE REQUIRED TO INSERT YOUR COMMENT IN THIS CELL\n",
    "#\n"
   ]
  },
  {
   "cell_type": "code",
   "execution_count": null,
   "metadata": {},
   "outputs": [],
   "source": [
    "# Using a scatter plot demonstrate relationship between Euclidean distance and cosine distance.\n",
    "# YOU ARE REQUIRED TO INSERT YOUR CODE IN THIS CELL\n",
    "# INSERT YOUR CODE HERE\n"
   ]
  },
  {
   "cell_type": "code",
   "execution_count": null,
   "metadata": {},
   "outputs": [],
   "source": [
    "# Is there a relationship between Euclidean distance and cosine similarity? Explain. \n",
    "# YOU ARE REQUIRED TO INSERT YOUR COMMENT IN THIS CELL\n",
    "#\n"
   ]
  },
  {
   "cell_type": "markdown",
   "metadata": {},
   "source": [
    "**Instruction 2.13**. Similar to the example above for the first keyword, your task is to write codes in the cell below to compute the term-by-document matrix and the vocabulary for tweets stored in ***k2_tweets_processed***, print out the first **5** vocabularies and visualise this term-by-document matrix.\n",
    "\n",
    "[**Total mark: 2**]"
   ]
  },
  {
   "cell_type": "code",
   "execution_count": null,
   "metadata": {},
   "outputs": [],
   "source": [
    "# YOU ARE REQUIRED TO INSERT YOUR CODE IN THIS CELL\n",
    "'''\n",
    "Write your codes to compute the term-by-document matrix and the vocabulary for tweets stored \n",
    "in k2_tweets_processed\n",
    "'''\n",
    "# INSERT YOUR CODE HERE\n",
    "\n",
    "'''\n",
    "Write your code print out the first 5 vocabularies \n",
    "'''\n",
    "# INSERT YOUR CODE HERE\n",
    "\n",
    "\n",
    "'''\n",
    "Write your code to visualise the term-by-document matrix\n",
    "'''\n",
    "# INSERT YOUR CODE HERE\n"
   ]
  },
  {
   "cell_type": "markdown",
   "metadata": {},
   "source": [
    "***Instruction 2.14***. Next, your task is to write codes in the cell below to calculate the pairwise distance matrix for tweets collected for **second** keyword. Store this distance matrix in the variable named ***k2_euclidean_distances*** and **visualise** this matrix.\n",
    "\n",
    "[**Total mark: 2**]"
   ]
  },
  {
   "cell_type": "code",
   "execution_count": null,
   "metadata": {},
   "outputs": [],
   "source": [
    "# YOU ARE REQUIRED TO INSERT YOUR CODE IN THIS CELL\n",
    "\n",
    "# compute the distance matrix for k1_termdoc using the function \"compute_euclidean_distance_matrix\"\n",
    "# INSERT YOUR CODE HERE\n",
    "\n",
    "# Visualise the distance matrix for this keyword\n",
    "# Hint: use imshow() and colorbar() functions\n",
    "# INSERT YOUR CODE HERE\n"
   ]
  },
  {
   "cell_type": "markdown",
   "metadata": {},
   "source": [
    "**Instruction 2.15**. Similarly, your task is to write codes in the cell below to compute the term-by-document matrix and the vocabulary for tweets stored in ***k3_tweets_processed***, print out the first **5** vocabularies and visualise this term-by-document matrix.\n",
    "\n",
    "[**Total mark: 2**]"
   ]
  },
  {
   "cell_type": "code",
   "execution_count": null,
   "metadata": {},
   "outputs": [],
   "source": [
    "# YOU ARE REQUIRED TO INSERT YOUR CODE IN THIS CELL\n",
    "'''\n",
    "Write your codes to compute the term-by-document matrix and the vocabulary for tweets stored \n",
    "in k3_tweets_processed\n",
    "'''\n",
    "# INSERT YOUR CODE HERE\n",
    "\n",
    "\n",
    "'''\n",
    "Write your code print out the first 5 vocabularies \n",
    "'''\n",
    "# INSERT YOUR CODE HERE\n",
    "\n",
    "\n",
    "'''\n",
    "Write your code to visualise the term-by-document matrix\n",
    "'''\n",
    "# INSERT YOUR CODE HERE\n"
   ]
  },
  {
   "cell_type": "markdown",
   "metadata": {},
   "source": [
    "***Instruction 2.16***. Next, your task is to write codes in the cell below to calculate the pairwise distance matrix for tweets collected for **third** keyword. Store this distance matrix in the variable named ***k3_euclidean_distances*** and visualise this matrix.\n",
    "\n",
    "[**Total mark: 1**]"
   ]
  },
  {
   "cell_type": "code",
   "execution_count": null,
   "metadata": {},
   "outputs": [],
   "source": [
    "# YOU ARE REQUIRED TO INSERT YOUR CODE IN THIS CELL\n",
    "\n",
    "# compute the distance matrices for k1_termdoc using the function \"compute_distance_matrices\"\n",
    "# INSERT YOUR CODE HERE\n",
    "\n",
    "# Visualise the distance matrix for this keyword\n",
    "# Hint: use imshow() and colorbar() functions\n",
    "# INSERT YOUR CODE HERE\n"
   ]
  },
  {
   "cell_type": "markdown",
   "metadata": {},
   "source": [
    "***Instruction 2.17 (HD)***. Compare the ranges of the values for cosine and Euclidean distances. Explain why the ranges are different. Think about the best example to explain why cosine distance is more convenient than Euclidean distance for text analysis.\n",
    "\n",
    "[**Total mark: 2**]"
   ]
  },
  {
   "cell_type": "code",
   "execution_count": null,
   "metadata": {},
   "outputs": [],
   "source": [
    "# Compare the ranges of the values for cosine and Euclidean distances. \n",
    "# Explain why the ranges are different. Explain why cosine distance \n",
    "# is more convenient than Euclidean distance for text analysis.\n",
    "#\n",
    "# YOU ARE REQUIRED TO INSERT YOUR COMMENT IN THIS CELL\n",
    "#\n"
   ]
  },
  {
   "cell_type": "markdown",
   "metadata": {},
   "source": [
    "### Part 2C: Data Clustering\n",
    "\n",
    "Thus far in this assignment, we have collected tweets for each keyword and analysed them seperately. We have constructed the term-by-document matrix for each collection of tweets seperately. A fundemantal and common task in data science, analytics, machine learning, science and engineering is **clustering**. This is also known as unsupervised learning or exploratory data analysis as we have learned in our classes.\n",
    "\n",
    "This part of this assignment will use the Kmeans algorithm learned in our classes to cluster the **entire** colllection of tweets collected for **all** keywords. To do so, we need to compute the **distance** between **any** two pair of tweets. This requires us to compute a **joint** term-by-document matrix for all tweets.\n",
    "\n",
    "The reason that we **cannot** use the individual term-by-document matrices computed earlier (e.g.,***k1_termdoc, k2_termdoc, k3_termdoc***) for this task is because they have different dictionary sizes. Hence, tweets collected for different keywords have been represented by vectors of different dimension. \n",
    "\n",
    "The following piece of codes will help you to inspect these dimensions."
   ]
  },
  {
   "cell_type": "code",
   "execution_count": null,
   "metadata": {},
   "outputs": [],
   "source": [
    "print('Dimension of the term-by-document matrix for keyword \\\"{}\\\":'.format(keywords[0]))\n",
    "print('{} x {}\\n'.format(k1_termdoc.shape[0],k1_termdoc.shape[1]))\n",
    "\n",
    "print('Dimension of the term-by-document matrix for keyword \\\"{}\\\":'.format(keywords[1]))\n",
    "print('{} x {}\\n'.format(k2_termdoc.shape[0],k2_termdoc.shape[1]))\n",
    "\n",
    "print('Dimension of the term-by-document matrix for keyword \\\"{}\\\":'.format(keywords[2]))\n",
    "print('{} x {}\\n'.format(k3_termdoc.shape[0],k3_termdoc.shape[1]))"
   ]
  },
  {
   "cell_type": "markdown",
   "metadata": {},
   "source": [
    "**Note**. First, we need to gather all tweets together into a new variable named **all_tweets_processed** using the piece of codes below."
   ]
  },
  {
   "cell_type": "code",
   "execution_count": null,
   "metadata": {},
   "outputs": [],
   "source": [
    "all_tweets_processed = k1_tweets_processed + k2_tweets_processed + k3_tweets_processed"
   ]
  },
  {
   "cell_type": "markdown",
   "metadata": {},
   "source": [
    "**Instruction 2.18**. Your task is to write codes in the cell below to compute the term-by-document matrix and the vocabulary for all tweets stored in ***all_tweets_processed***, print out the first 5 vocabularies and visualise this term-by-document matrix.\n",
    "\n",
    "[**Total marks: 1**]"
   ]
  },
  {
   "cell_type": "code",
   "execution_count": null,
   "metadata": {},
   "outputs": [],
   "source": [
    "# YOU ARE REQUIRED TO INSERT YOUR CODE IN THIS CELL\n",
    "'''\n",
    "Write your codes to compute the term-by-document matrix and the vocabulary for all tweets stored \n",
    "in all_tweets_processed\n",
    "'''\n",
    "\n",
    "all_termdoc, all_vocab = # INSERT YOUR CODE HERE\n",
    "\n",
    "'''\n",
    "Write your code print out the first 5 vocabularies \n",
    "'''\n",
    "# INSERT YOUR CODE HERE\n",
    "\n",
    "'''\n",
    "Write your code to visualise the term-by-document matrix\n",
    "'''\n",
    "# INSERT YOUR CODE HERE\n"
   ]
  },
  {
   "cell_type": "markdown",
   "metadata": {},
   "source": [
    "**Instruction 2.19**. Next, your task is to write codes in the cell below to calculate the pairwise distance matrix for all tweets collected. Store this distance matrix in the variable named ***all_euclidean_distances*** and visualise this matrix.\n",
    "\n",
    "[**Total mark: 1**]"
   ]
  },
  {
   "cell_type": "code",
   "execution_count": null,
   "metadata": {},
   "outputs": [],
   "source": [
    "# YOU ARE REQUIRED TO INSERT YOUR CODE IN THIS CELL\n",
    "\n",
    "# compute the Euclidean distance matrix using compute_euclidean_distance_matrix() function\n",
    "\n",
    "all_euclidean_distances, all_cosine_distances = # INSERT YOUR CODE HERE\n",
    "\n",
    "# Visualise the distance matrix for this keyword\n",
    "# INSERT YOUR CODE HERE\n"
   ]
  },
  {
   "cell_type": "markdown",
   "metadata": {},
   "source": [
    "**Instruction 2.20 (HD)**. \n",
    "1. Your task is to produce a scatter plot of Euclidean vs cosine distance for all tweets. [**1 mark**]\n",
    "2. Fit first and second order polynomials to the data in the scatter plot and overplot them. [**2 marks**]\n",
    "3. Explain why the plotted curves do not go through the centre of the points cloud. Which visualisation technique would be better to use here? [**1 mark**]\n",
    "\n",
    "[**Total mark: 4**]"
   ]
  },
  {
   "cell_type": "code",
   "execution_count": null,
   "metadata": {},
   "outputs": [],
   "source": [
    "# YOU ARE REQUIRED TO INSERT YOUR CODE IN THIS CELL\n",
    "# 1. Your task is to produce a scatter plot of Euclidean vs cosine distance for all tweets.\n",
    "# INSERT YOUR CODE HERE\n",
    "\n",
    "# 2. Fit first and second order polynomials to the data in the scatter plot and overplot it. \n",
    "# INSERT YOUR CODE HERE\n"
   ]
  },
  {
   "cell_type": "code",
   "execution_count": null,
   "metadata": {},
   "outputs": [],
   "source": [
    "# YOU ARE REQUIRED TO INSERT YOUR COMMENT IN THIS CELL\n",
    "#3. Explain why the plotted curves do not go through the centre of the points cloud.\n",
    "#  Which visualisation technique would be better to use here?\n",
    "# INSERT YOUR COMMENTS HERE\n",
    "#\n"
   ]
  },
  {
   "cell_type": "markdown",
   "metadata": {},
   "source": [
    "**Note**. Next, we use Kmeans algorithm to cluster all tweets stored in term-by-document matrix ***all_termdoc***. An important requirement for the Kmeans is the specification of the number of clusters which will be specified the variable **n_clusters**.\n",
    "\n",
    "The following piece of codes will initialise a ***kmeans*** object to be used for subsequent clustering task."
   ]
  },
  {
   "cell_type": "code",
   "execution_count": null,
   "metadata": {},
   "outputs": [],
   "source": [
    "'''\n",
    "Initialise a kmeans object  from scikit-lean package\n",
    "'''\n",
    "n_clusters = 3\n",
    "kmeans = KMeans(n_clusters=n_clusters, init='k-means++', n_init=5, max_iter=3000,\n",
    "                verbose=True, tol=0.000001, random_state=123456)\n"
   ]
  },
  {
   "cell_type": "markdown",
   "metadata": {},
   "source": [
    "**Instruction 2.21**. Your task is to use the variable ***kmeans*** to perform clustering on the data stored in the variable ***all_termdoc***.\n",
    "\n",
    "[**Total mark: 1**]"
   ]
  },
  {
   "cell_type": "code",
   "execution_count": null,
   "metadata": {},
   "outputs": [],
   "source": [
    "# YOU ARE REQUIRED TO INSERT YOUR CODE IN THIS CELL\n",
    "\n",
    "'''\n",
    "Use the variable kmeans to perform clustering on the data stored in the variable all_termdoc\n",
    "Hint: revise the practical session on Kmeans algorithm or check out the documentation from scikit-learn\n",
    "for Kmeans algorithm.\n",
    "'''\n",
    "# INSERT YOUR CODE HERE\n"
   ]
  },
  {
   "cell_type": "markdown",
   "metadata": {},
   "source": [
    "**Instruction 2.22**. Write your codes to print out the cluster centers.\n",
    "\n",
    "[**Total mark: 1**]"
   ]
  },
  {
   "cell_type": "code",
   "execution_count": null,
   "metadata": {},
   "outputs": [],
   "source": [
    "# YOU ARE REQUIRED TO INSERT YOUR CODE IN THIS CELL\n",
    "'''\n",
    "Write your codes to print out the cluster centers.\n",
    "'''\n",
    "# INSERT YOUR CODE HERE\n"
   ]
  },
  {
   "cell_type": "markdown",
   "metadata": {},
   "source": [
    "**Instruction 2.23 (HD)**. Explain below why visualising the clusters here is hard to do in this case.\n",
    "\n",
    "[**Total mark: 2**]"
   ]
  },
  {
   "cell_type": "code",
   "execution_count": null,
   "metadata": {},
   "outputs": [],
   "source": [
    "# YOU ARE REQUIRED TO INSERT YOUR COMMENT IN THIS CELL\n",
    "# Explain below why visualising the clusters here is hard to do in this case.\n",
    "# INSERT YOUR COMMENT HERE\n"
   ]
  },
  {
   "cell_type": "markdown",
   "metadata": {},
   "source": [
    "**Instruction 2.24 (HD)**. Nevertheless, it is possible to visualise the structure of the cluster centres - surprisingly, using bar charts. Each vector component in the cluster centre vectors corresponds to a word in the dictionary. The value (amplitude) of the vector component for each particular word in the dictionary shows the strength of presence of a word in the cluster.\n",
    "In this task, you want to:\n",
    "1. Plot bar charts for each of the three clusters, obtained from KMeans, where each bar chart has 20 strongest words sorted by their presence strength. [**2 marks**]\n",
    "2. Explain the bar charts from the point of view of chosen keywords, English grammar and our text preprocessing routine. [**1 marks**]\n",
    "\n",
    "[**Total mark: 3**]"
   ]
  },
  {
   "cell_type": "code",
   "execution_count": null,
   "metadata": {},
   "outputs": [],
   "source": [
    "# YOU ARE REQUIRED TO INSERT YOUR CODE IN THIS CELL\n",
    "# 1. Plot bar charts for each of the three clusters, obtained from KMeans, \n",
    "# where each bar chart has 20 strongest words sorted by their presence strength.\n",
    "# INSERT YOUR CODE HERE\n"
   ]
  },
  {
   "cell_type": "code",
   "execution_count": null,
   "metadata": {},
   "outputs": [],
   "source": [
    "# YOU ARE REQUIRED TO INSERT YOUR COMMENT IN THIS CELL\n",
    "# Explain the bar charts from the point of view of chosen keywords, English grammar \n",
    "# and our text preprocessing routine.\n",
    "# INSERT YOUR COMMENT HERE\n",
    "#"
   ]
  },
  {
   "cell_type": "markdown",
   "metadata": {},
   "source": [
    "**Instruction 2.25**. Write your codes to print out the first **200** cluster labels assigned to the first 200 tweets.\n",
    "\n",
    "[**Total marks: 1**]"
   ]
  },
  {
   "cell_type": "code",
   "execution_count": null,
   "metadata": {},
   "outputs": [],
   "source": [
    "# YOU ARE REQUIRED TO INSERT YOUR CODE IN THIS CELL\n",
    "'''\n",
    "Write your codes to print out the first **200** cluster labels assigned to the first 200 tweets.\n",
    "'''\n",
    "# INSERT YOUR CODE HERE\n"
   ]
  },
  {
   "cell_type": "markdown",
   "metadata": {},
   "source": [
    "**Instruction 2.26**. Next, we would like to obtain the quality of our clustering results. Write your code to obtain the labels of tweets for each keyword and store the labels in three new variables ***k1_labels***, ***k2_labels*** and ***k3_labels***, respectively.\n",
    "\n",
    "**[Total marks: 2]**"
   ]
  },
  {
   "cell_type": "code",
   "execution_count": null,
   "metadata": {},
   "outputs": [],
   "source": [
    "# YOU ARE REQUIRED TO INSERT YOUR CODE IN THIS CELL\n",
    "\n",
    "'''\n",
    "Write your code to obtain the labels of tweets for each keyword\n",
    "and store the labels of the first keyword in ***k1_labels***, \n",
    "the labels of the second keyword in ***k2_labels*** and\n",
    "the labels of the third keyword in ***k3_labels***.\n",
    "'''\n",
    "# INSERT YOUR CODE HERE\n"
   ]
  },
  {
   "cell_type": "markdown",
   "metadata": {},
   "source": [
    "**Instruction 2.27 (D)**. We examine what is the proprotion of tweets from different keywords (or categories) appear in the **first** cluster. Remember that **0** is the label for the first cluster (**1** for the second and **2** for the third clusters). Your tasks are:\n",
    "\n",
    "1. Write your code to obtain the list of tweet indices of each keyword that are assigned to the first cluster. **(1 marks)**\n",
    "\n",
    "2. Plot a bar chart to visualise the number of tweets of each keyword that are assigned to the first cluster. **(1 marks)**\n",
    "\n",
    "**[Total mark: 2]**"
   ]
  },
  {
   "cell_type": "code",
   "execution_count": null,
   "metadata": {},
   "outputs": [],
   "source": [
    "# YOU ARE REQUIRED TO INSERT YOUR CODE IN THIS CELL\n",
    "'''\n",
    "Write your code to obtain the list of tweet indices of each keyword that are assigned to the first cluster.\n",
    "Hint: you might want to use numpy.where function.\n",
    "'''\n",
    "# obtain the list of tweet indices of keyword k1 that are assigned to the first cluster\n",
    "# means that to find tweet indices that have label 0 in k1_labels\n",
    "k1_idx_label0 = # INSERT YOUR CODE HERE\n",
    "\n",
    "# obtain the list of tweet indices of keyword k2 that are assigned to the first cluster\n",
    "# means that to find tweet indices that have label 0 in k2_labels\n",
    "k2_idx_label0 = # INSERT YOUR CODE HERE\n",
    "\n",
    "# obtain the list of tweet indices of keyword k3 that are assigned to the first cluster\n",
    "# means that to find tweet indices that have label 0 in k3_labels\n",
    "k3_idx_label0 = # INSERT YOUR CODE HERE\n"
   ]
  },
  {
   "cell_type": "code",
   "execution_count": null,
   "metadata": {},
   "outputs": [],
   "source": [
    "# YOU ARE REQUIRED TO INSERT YOUR CODE IN THIS CELL\n",
    "'''\n",
    "Plot a bar chart to visualise the number of tweets of each keyword that are assigned to the first cluster.\n",
    "Hint: you need to plot a bar chart with three bars, \n",
    "each bar represents the number of tweets of each keyword that are assigned to the first cluster.\n",
    "'''\n",
    "# INSERT YOUR CODE HERE\n"
   ]
  },
  {
   "cell_type": "markdown",
   "metadata": {},
   "source": [
    "**Instruction 2.28 (D)**. Similarly, write your codes to compute the the proprotion of tweets from different keywords (or categories) appear in the **second** cluster and plot a bar chart visualise this information.\n",
    "\n",
    "[**Total mark: 1**]"
   ]
  },
  {
   "cell_type": "code",
   "execution_count": null,
   "metadata": {},
   "outputs": [],
   "source": [
    "# YOU ARE REQUIRED TO INSERT YOUR CODE IN THIS CELL\n",
    "\n",
    "# obtain the list of tweet indices of keyword k1 that are assigned to the second cluster\n",
    "# means that to find tweet indices that have label 1 in k1_labels\n",
    "k1_idx_label1 = # INSERT YOUR CODE HERE\n",
    "\n",
    "# obtain the list of tweet indices of keyword k2 that are assigned to the second cluster\n",
    "# means that to find tweet indices that have label 1 in k2_labels\n",
    "k2_idx_label1 = # INSERT YOUR CODE HERE\n",
    "\n",
    "# obtain the list of tweet indices of keyword k3 that are assigned to the second cluster\n",
    "# means that to find tweet indices that have label 1 in k3_labels\n",
    "k3_idx_label1 = # INSERT YOUR CODE HERE\n",
    "\n",
    "# Plot a bar chart to visualise the number of tweets of each keyword that are assigned to the second cluster\n",
    "# INSERT YOUR CODE HERE\n"
   ]
  },
  {
   "cell_type": "markdown",
   "metadata": {},
   "source": [
    "**Instruction 2.29 (D)**. Similarly, write your codes to compute the the proprotion of tweets from different keywords (or categories) appear in the **third** cluster and plot a bar chart visualise this information.\n",
    "\n",
    "[**Total mark: 1**]"
   ]
  },
  {
   "cell_type": "code",
   "execution_count": null,
   "metadata": {},
   "outputs": [],
   "source": [
    "# YOU ARE REQUIRED TO INSERT YOUR CODE IN THIS CELL\n",
    "\n",
    "# obtain the list of tweet indices of keyword k1 that are assigned to the third cluster\n",
    "# means that to find tweet indices that have label 2 in k1_labels\n",
    "k1_idx_label2 = # INSERT YOUR CODE HERE\n",
    "\n",
    "# obtain the list of tweet indices of keyword k2 that are assigned to the third cluster\n",
    "# means that to find tweet indices that have label 2 in k2_labels\n",
    "k2_idx_label2 = # INSERT YOUR CODE HERE\n",
    "\n",
    "# obtain the list of tweet indices of keyword k3 that are assigned to the third cluster\n",
    "# means that to find tweet indices that have label 2 in k3_labels\n",
    "k3_idx_label2 = # INSERT YOUR CODE HERE\n",
    "\n",
    "# Plot a bar chart to visualise the number of tweets of each keyword that are assigned to the third cluster\n",
    "# INSERT YOUR CODE HERE\n"
   ]
  },
  {
   "cell_type": "markdown",
   "metadata": {},
   "source": [
    "### END OF ASSIGNMENT 2 NOTEBOOK\n",
    "\n",
    "----"
   ]
  },
  {
   "cell_type": "code",
   "execution_count": null,
   "metadata": {},
   "outputs": [],
   "source": []
  }
 ],
 "metadata": {
  "kernelspec": {
   "display_name": "Python 3 (ipykernel)",
   "language": "python",
   "name": "python3"
  },
  "language_info": {
   "codemirror_mode": {
    "name": "ipython",
    "version": 3
   },
   "file_extension": ".py",
   "mimetype": "text/x-python",
   "name": "python",
   "nbconvert_exporter": "python",
   "pygments_lexer": "ipython3",
   "version": "3.9.7"
  }
 },
 "nbformat": 4,
 "nbformat_minor": 1
}
